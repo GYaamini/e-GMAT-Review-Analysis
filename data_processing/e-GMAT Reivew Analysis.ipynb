{
 "cells": [
  {
   "cell_type": "code",
   "execution_count": 36,
   "id": "f65c2c24-b543-4fa4-8e7f-b02f89f7fba4",
   "metadata": {},
   "outputs": [],
   "source": [
    "import pandas as pd\n",
    "import matplotlib.pyplot as plt\n",
    "import seaborn as snb\n",
    "import re"
   ]
  },
  {
   "cell_type": "code",
   "execution_count": 67,
   "id": "0712da48-fbfd-4f62-b390-f9008682bca7",
   "metadata": {},
   "outputs": [],
   "source": [
    "data = pd.read_csv('e-GMAT_GMAT_Club_Reviews_Original.csv')"
   ]
  },
  {
   "cell_type": "code",
   "execution_count": 68,
   "id": "3db6ef39-5e63-49f8-bec5-9f5303e577ff",
   "metadata": {},
   "outputs": [
    {
     "data": {
      "text/html": [
       "<div>\n",
       "<style scoped>\n",
       "    .dataframe tbody tr th:only-of-type {\n",
       "        vertical-align: middle;\n",
       "    }\n",
       "\n",
       "    .dataframe tbody tr th {\n",
       "        vertical-align: top;\n",
       "    }\n",
       "\n",
       "    .dataframe thead th {\n",
       "        text-align: right;\n",
       "    }\n",
       "</style>\n",
       "<table border=\"1\" class=\"dataframe\">\n",
       "  <thead>\n",
       "    <tr style=\"text-align: right;\">\n",
       "      <th></th>\n",
       "      <th>Page No</th>\n",
       "      <th>Date of Post</th>\n",
       "      <th>Review Heading</th>\n",
       "      <th>Username</th>\n",
       "      <th>Scores</th>\n",
       "      <th>Stars</th>\n",
       "      <th>Improvement</th>\n",
       "      <th>Course</th>\n",
       "      <th>Location</th>\n",
       "      <th>ReviewBody</th>\n",
       "    </tr>\n",
       "  </thead>\n",
       "  <tbody>\n",
       "    <tr>\n",
       "      <th>0</th>\n",
       "      <td>1</td>\n",
       "      <td>27-Nov-24</td>\n",
       "      <td>e-GMAT Review</td>\n",
       "      <td>Sai01</td>\n",
       "      <td>Verified GMAT Focus score:\\n675 Q87 V84 DI80 (...</td>\n",
       "      <td>stars stars5</td>\n",
       "      <td>70 Points</td>\n",
       "      <td>e-GMAT GMAT Live Prep</td>\n",
       "      <td>Online</td>\n",
       "      <td>Strengths:\\n\\n*Verbal Section\\n*Data Analytics...</td>\n",
       "    </tr>\n",
       "    <tr>\n",
       "      <th>1</th>\n",
       "      <td>1</td>\n",
       "      <td>13-May-25</td>\n",
       "      <td>From 605 to 715– e-GMAT’s Last Mile Program &amp; ...</td>\n",
       "      <td>Mayanksureka</td>\n",
       "      <td>Verified GMAT Focus score:\\n665 Q84 V81 DI84</td>\n",
       "      <td>stars stars5</td>\n",
       "      <td>110 Points</td>\n",
       "      <td>e-GMAT Online Focused</td>\n",
       "      <td>Online</td>\n",
       "      <td>Strengths:\\n\\n1. Last Mile Program (LMP) &amp; Men...</td>\n",
       "    </tr>\n",
       "    <tr>\n",
       "      <th>2</th>\n",
       "      <td>1</td>\n",
       "      <td>12-May-25</td>\n",
       "      <td>E-GMAT - Online 360 course (GMAT Focus Test)</td>\n",
       "      <td>Shahshreyans007</td>\n",
       "      <td>Verified GMAT Focus score:\\n695 Q87 V85 DI82</td>\n",
       "      <td>stars stars5</td>\n",
       "      <td>200 Points</td>\n",
       "      <td>e-GMAT Online 360</td>\n",
       "      <td>Online</td>\n",
       "      <td>Strengths:\\n\\n1. Adaptive preparation based on...</td>\n",
       "    </tr>\n",
       "    <tr>\n",
       "      <th>3</th>\n",
       "      <td>1</td>\n",
       "      <td>12-May-25</td>\n",
       "      <td>E-GMAT review</td>\n",
       "      <td>ChitwanM</td>\n",
       "      <td>Verified GMAT Focus score:\\n725 Q90 V84 DI84</td>\n",
       "      <td>stars stars5</td>\n",
       "      <td>70 Points</td>\n",
       "      <td>e-GMAT Mentorship</td>\n",
       "      <td>Online</td>\n",
       "      <td>Strengths:\\n\\nTop-Notch Verbal Course (Especia...</td>\n",
       "    </tr>\n",
       "    <tr>\n",
       "      <th>4</th>\n",
       "      <td>1</td>\n",
       "      <td>09-May-25</td>\n",
       "      <td>Egmat review</td>\n",
       "      <td>avnitjha</td>\n",
       "      <td>Verified GMAT Focus score:\\n725 Q88 V89 DI81</td>\n",
       "      <td>stars stars5</td>\n",
       "      <td>70 Points</td>\n",
       "      <td>e-GMAT GMAT Live Prep</td>\n",
       "      <td>Online</td>\n",
       "      <td>e-GMAT was a game-changer in my GMAT Focus pre...</td>\n",
       "    </tr>\n",
       "  </tbody>\n",
       "</table>\n",
       "</div>"
      ],
      "text/plain": [
       "   Page No Date of Post                                     Review Heading  \\\n",
       "0        1    27-Nov-24                                      e-GMAT Review   \n",
       "1        1    13-May-25  From 605 to 715– e-GMAT’s Last Mile Program & ...   \n",
       "2        1    12-May-25       E-GMAT - Online 360 course (GMAT Focus Test)   \n",
       "3        1    12-May-25                                      E-GMAT review   \n",
       "4        1    09-May-25                                       Egmat review   \n",
       "\n",
       "          Username                                             Scores  \\\n",
       "0            Sai01  Verified GMAT Focus score:\\n675 Q87 V84 DI80 (...   \n",
       "1     Mayanksureka       Verified GMAT Focus score:\\n665 Q84 V81 DI84   \n",
       "2  Shahshreyans007       Verified GMAT Focus score:\\n695 Q87 V85 DI82   \n",
       "3         ChitwanM       Verified GMAT Focus score:\\n725 Q90 V84 DI84   \n",
       "4         avnitjha       Verified GMAT Focus score:\\n725 Q88 V89 DI81   \n",
       "\n",
       "          Stars Improvement                 Course Location  \\\n",
       "0  stars stars5   70 Points  e-GMAT GMAT Live Prep   Online   \n",
       "1  stars stars5  110 Points  e-GMAT Online Focused   Online   \n",
       "2  stars stars5  200 Points      e-GMAT Online 360   Online   \n",
       "3  stars stars5   70 Points      e-GMAT Mentorship   Online   \n",
       "4  stars stars5   70 Points  e-GMAT GMAT Live Prep   Online   \n",
       "\n",
       "                                          ReviewBody  \n",
       "0  Strengths:\\n\\n*Verbal Section\\n*Data Analytics...  \n",
       "1  Strengths:\\n\\n1. Last Mile Program (LMP) & Men...  \n",
       "2  Strengths:\\n\\n1. Adaptive preparation based on...  \n",
       "3  Strengths:\\n\\nTop-Notch Verbal Course (Especia...  \n",
       "4  e-GMAT was a game-changer in my GMAT Focus pre...  "
      ]
     },
     "execution_count": 68,
     "metadata": {},
     "output_type": "execute_result"
    }
   ],
   "source": [
    "data.head()"
   ]
  },
  {
   "cell_type": "markdown",
   "id": "f6746ce5-6474-462f-8275-4f3bc95bc422",
   "metadata": {},
   "source": [
    "# Helper Functions"
   ]
  },
  {
   "cell_type": "code",
   "execution_count": 69,
   "id": "ae133aec-d9a2-48dd-acde-00053817f655",
   "metadata": {},
   "outputs": [],
   "source": [
    "# Format Review Display\n",
    "def format_review(review):\n",
    "    lines = review.split('\\n')\n",
    "    formated_review = []\n",
    "\n",
    "    for line in lines:\n",
    "        line = line.strip()\n",
    "        if line.startswith('*'):\n",
    "            line = '* ' + line[1:].strip()\n",
    "        formated_review.append(line)\n",
    "    return '\\n'.join(formated_review)\n",
    "\n",
    "# Format stars with number representation\n",
    "def format_stars(star):\n",
    "    stars_available = {'stars5': 5, 'stars4': 4, 'stars3': 3, 'stars2': 2, 'stars1': 1}\n",
    "    return stars_available[star.split(' ')[-1]]\n",
    "\n",
    "# Format Improvements\n",
    "def points_improvement(points):\n",
    "    point = int(str(points).split(' ')[0].strip())\n",
    "    return point\n",
    "\n",
    "# Format course names\n",
    "def format_course(course):\n",
    "    course = course.split('e-GMAT')[-1].strip()\n",
    "    return course"
   ]
  },
  {
   "cell_type": "markdown",
   "id": "654c3bc2-bc03-43ed-8ea7-0081b83b02a4",
   "metadata": {},
   "source": [
    "### Clean the improved points data"
   ]
  },
  {
   "cell_type": "code",
   "execution_count": 70,
   "id": "95086f2c-4fd4-40d6-b0b0-68cabd0d8d13",
   "metadata": {},
   "outputs": [
    {
     "data": {
      "text/plain": [
       "ImprovedPoints\n",
       "70 Points     12\n",
       "60 Points     11\n",
       "40 Points     11\n",
       "30 Points      9\n",
       "120 Points     7\n",
       "50 Points      7\n",
       "100 Points     6\n",
       "200 Points     5\n",
       "110 Points     5\n",
       "80 Points      5\n",
       "90 Points      5\n",
       "160 Points     3\n",
       "130 Points     2\n",
       "20 Points      2\n",
       "150 Points     2\n",
       "140 Points     1\n",
       "10 Points      1\n",
       "Name: count, dtype: int64"
      ]
     },
     "execution_count": 70,
     "metadata": {},
     "output_type": "execute_result"
    }
   ],
   "source": [
    "data.rename(columns={'Improvement':'ImprovedPoints'}, inplace=True)\n",
    "data['ImprovedPoints'].value_counts()"
   ]
  },
  {
   "cell_type": "code",
   "execution_count": 71,
   "id": "2ce0154f-1979-41c0-9fa9-22e7b885c5f6",
   "metadata": {},
   "outputs": [
    {
     "data": {
      "text/plain": [
       "0"
      ]
     },
     "execution_count": 71,
     "metadata": {},
     "output_type": "execute_result"
    }
   ],
   "source": [
    "data['ImprovedPoints'] = data['ImprovedPoints'].fillna(0)\n",
    "data['ImprovedPoints'].isna().sum()"
   ]
  },
  {
   "cell_type": "code",
   "execution_count": 72,
   "id": "8e96b1f7-0a7f-4e1c-91a2-ed613b13b7d4",
   "metadata": {},
   "outputs": [],
   "source": [
    "data['ImprovedPoints'] = data['ImprovedPoints'].apply(points_improvement)"
   ]
  },
  {
   "cell_type": "markdown",
   "id": "5b735388-9294-4559-a1b0-9190cfb87054",
   "metadata": {},
   "source": [
    "### Clean the review stars data"
   ]
  },
  {
   "cell_type": "code",
   "execution_count": 73,
   "id": "7ed47f91-61e4-4a9b-bde8-1538397b7025",
   "metadata": {},
   "outputs": [],
   "source": [
    "data['Stars'] = data['Stars'].apply(format_stars)"
   ]
  },
  {
   "cell_type": "code",
   "execution_count": 74,
   "id": "373a2905-513c-4fec-b6e3-ac5bae0546d2",
   "metadata": {},
   "outputs": [
    {
     "data": {
      "text/plain": [
       "Stars\n",
       "5    98\n",
       "4    11\n",
       "1     1\n",
       "Name: count, dtype: int64"
      ]
     },
     "execution_count": 74,
     "metadata": {},
     "output_type": "execute_result"
    }
   ],
   "source": [
    "data['Stars'].value_counts()"
   ]
  },
  {
   "cell_type": "markdown",
   "id": "4c6cab5d-57d3-4d9e-89c9-7eae873de70c",
   "metadata": {},
   "source": [
    "### Clean course names"
   ]
  },
  {
   "cell_type": "code",
   "execution_count": 75,
   "id": "3604416a-5309-4595-bc42-828ca9222860",
   "metadata": {},
   "outputs": [],
   "source": [
    "data['Course'] = data['Course'].apply(format_course)"
   ]
  },
  {
   "cell_type": "markdown",
   "id": "c93cfe81-a435-4a65-8895-214d8dcb3776",
   "metadata": {},
   "source": [
    "### Create Year and Month columns"
   ]
  },
  {
   "cell_type": "code",
   "execution_count": 76,
   "id": "63337470-beae-4850-9a54-5295e894be57",
   "metadata": {},
   "outputs": [
    {
     "name": "stderr",
     "output_type": "stream",
     "text": [
      "C:\\Users\\yaamini\\AppData\\Local\\Temp\\ipykernel_21664\\3189414833.py:2: UserWarning: Could not infer format, so each element will be parsed individually, falling back to `dateutil`. To ensure parsing is consistent and as-expected, please specify a format.\n",
      "  data['Date'] = pd.to_datetime(data['Date'])\n"
     ]
    }
   ],
   "source": [
    "data.rename(columns={'Date of Post':'Date'}, inplace=True)\n",
    "data['Date'] = pd.to_datetime(data['Date'])\n",
    "data['Year'] = data['Date'].dt.year"
   ]
  },
  {
   "cell_type": "code",
   "execution_count": 77,
   "id": "78ff81a3-21f1-4d90-a2ab-a2c5ebd25399",
   "metadata": {},
   "outputs": [
    {
     "data": {
      "text/plain": [
       "Year\n",
       "2024    60\n",
       "2025    50\n",
       "Name: count, dtype: int64"
      ]
     },
     "execution_count": 77,
     "metadata": {},
     "output_type": "execute_result"
    }
   ],
   "source": [
    "data['Year'].value_counts()"
   ]
  },
  {
   "cell_type": "code",
   "execution_count": 78,
   "id": "34041211-76d5-4515-9aa1-1aede6f6ab0d",
   "metadata": {},
   "outputs": [
    {
     "data": {
      "text/plain": [
       "Month\n",
       "October      17\n",
       "January      16\n",
       "September    15\n",
       "November     14\n",
       "March        14\n",
       "December     11\n",
       "May           8\n",
       "February      7\n",
       "April         5\n",
       "August        3\n",
       "Name: count, dtype: int64"
      ]
     },
     "execution_count": 78,
     "metadata": {},
     "output_type": "execute_result"
    }
   ],
   "source": [
    "def rename_month(num):\n",
    "    months = {\n",
    "        1: 'January', 2: 'February', 3: 'March', 4: 'April', 5: 'May', 6: 'June',\n",
    "        7: 'July', 8: 'August', 9: 'September', 10: 'October', 11: 'November', 12: 'December'\n",
    "    }\n",
    "    return months[num]\n",
    "data['Month'] = data['Date'].dt.month.apply(rename_month)\n",
    "data['Month'].value_counts()"
   ]
  },
  {
   "cell_type": "markdown",
   "id": "b8f0443b-9489-435f-9d4c-fca31d2df886",
   "metadata": {},
   "source": [
    "## Segment ReviewBody"
   ]
  },
  {
   "cell_type": "code",
   "execution_count": 79,
   "id": "095f16eb-84e0-46a7-870f-f13f312db01d",
   "metadata": {},
   "outputs": [],
   "source": [
    "# Separate Review segments\n",
    "import spacy\n",
    "\n",
    "nlp = spacy.load(\"en_core_web_sm\")\n",
    "\n",
    "def separate_review_segments(review):\n",
    "    review = review.lower()\n",
    "    doc = nlp(review.strip())\n",
    "    extracted_segments = {\n",
    "        'Strengths': [],\n",
    "        'Improvements': [],\n",
    "        'PersonalExperience': [],\n",
    "        'Tips': [],\n",
    "        'from': ''\n",
    "    }\n",
    "    \n",
    "    current_section = None\n",
    "    section_patterns = {\n",
    "        'Strengths': ['strength', 'pro', 'advantage', 'excellent', 'changer', 'apart', 'great', 'liked', 'stands out'],\n",
    "        'Improvements': ['improve', 'better', 'suggestion', 'enhance', 'however', 'while', 'the only'],\n",
    "        'PersonalExperience': ['I', 'my', 'experience', 'journey', 'started', 'scored', 'scoring', 'appreciate', 'helped', 'me', 'improved'],\n",
    "        'Tips': ['tip', 'recommend', 'advice', 'should', 'suggest', 'anyone']\n",
    "    }\n",
    "\n",
    "    if ':\\n' in review:\n",
    "        Strengths_text, improvements_text, experience_text, tips_text = '', '','',''\n",
    "        text = review\n",
    "        if 'tips for aspirants:' in text:\n",
    "            start_index = text.find('tips for aspirants:') + len('tips for aspirants:')\n",
    "            tips_text = text[start_index:].strip()  # Split off the personal experience section\n",
    "            extracted_segments['Tips'].append(tips_text)\n",
    "            text = text.split('tips for aspirants:')[0]\n",
    "            \n",
    "        if 'strengths:' in text:\n",
    "            start_index = text.find('strengths:') + len('strengths:')\n",
    "            Strengths_text = text[start_index:].split(\"would make the product better:\")[0].strip()  # Split off the Improvements section\n",
    "            extracted_segments['Strengths'].append(Strengths_text)\n",
    "            text = text.split(Strengths_text)[-1]\n",
    "\n",
    "        if 'would make the product better:' in text:\n",
    "            start_index = text.find('would make the product better:') + len('would make the product better:\\n')\n",
    "            improvements_text = text[start_index:].split(\"\\n\\n\")[0].strip()  # Split off the personal experience section\n",
    "            extracted_segments['Improvements'].append(improvements_text)\n",
    "            text = text.split(improvements_text)[-1]\n",
    "\n",
    "        for section in extracted_segments:\n",
    "            if len(extracted_segments[section]) < 1:\n",
    "                if section == 'PersonalExperience' or section == 'from':\n",
    "                    continue\n",
    "                sentences = nlp(text).sents\n",
    "                to_replace = []\n",
    "                for sentence in sentences:\n",
    "                    if any(keyword in sentence for keyword in section_patterns[section]):\n",
    "                        extracted_segments[section].append(sentence)\n",
    "                        to_replace.append(sentence)\n",
    "                for sent in to_replace:\n",
    "                    text = text.replace(sent, '')\n",
    "\n",
    "        experience_text = text.strip()  # Split off the personal experience section\n",
    "        extracted_segments['PersonalExperience'].append(experience_text)\n",
    "\n",
    "        extracted_segments['from'] = 'headers'\n",
    "\n",
    "        for section in extracted_segments:\n",
    "            extracted_segments[section] = \" \".join(extracted_segments[section]) if extracted_segments[section] else None\n",
    "        return extracted_segments\n",
    "\n",
    "    else:\n",
    "        for sent in doc.sents:\n",
    "            sent_text = sent.text.strip()\n",
    "            sent_lower = sent_text.lower()\n",
    "                        \n",
    "            # NLP-based section detection\n",
    "            if not current_section:\n",
    "                for section, patterns in section_patterns.items():\n",
    "                    if any(token.lemma_ in patterns for token in sent):\n",
    "                        current_section = section\n",
    "                        break\n",
    "            \n",
    "            if current_section:\n",
    "                extracted_segments[current_section].append(sent_text)\n",
    "        \n",
    "    extracted_segments['from'] = 'conditional'\n",
    "\n",
    "    for section in extracted_segments:\n",
    "        extracted_segments[section] = \" \".join(extracted_segments[section]) if extracted_segments[section] else None\n",
    "    return extracted_segments\n"
   ]
  },
  {
   "cell_type": "code",
   "execution_count": 80,
   "id": "7b9bf30e-bbf0-4200-962f-bbf345f80b0f",
   "metadata": {},
   "outputs": [
    {
     "data": {
      "text/html": [
       "<div>\n",
       "<style scoped>\n",
       "    .dataframe tbody tr th:only-of-type {\n",
       "        vertical-align: middle;\n",
       "    }\n",
       "\n",
       "    .dataframe tbody tr th {\n",
       "        vertical-align: top;\n",
       "    }\n",
       "\n",
       "    .dataframe thead th {\n",
       "        text-align: right;\n",
       "    }\n",
       "</style>\n",
       "<table border=\"1\" class=\"dataframe\">\n",
       "  <thead>\n",
       "    <tr style=\"text-align: right;\">\n",
       "      <th></th>\n",
       "      <th>Page No</th>\n",
       "      <th>Date</th>\n",
       "      <th>Review Heading</th>\n",
       "      <th>Username</th>\n",
       "      <th>Scores</th>\n",
       "      <th>Stars</th>\n",
       "      <th>ImprovedPoints</th>\n",
       "      <th>Course</th>\n",
       "      <th>Location</th>\n",
       "      <th>ReviewBody</th>\n",
       "      <th>Year</th>\n",
       "      <th>Month</th>\n",
       "      <th>Strengths</th>\n",
       "      <th>Improvements</th>\n",
       "      <th>PersonalExperience</th>\n",
       "      <th>Tips</th>\n",
       "      <th>from</th>\n",
       "    </tr>\n",
       "  </thead>\n",
       "  <tbody>\n",
       "    <tr>\n",
       "      <th>0</th>\n",
       "      <td>1</td>\n",
       "      <td>2024-11-27</td>\n",
       "      <td>e-GMAT Review</td>\n",
       "      <td>Sai01</td>\n",
       "      <td>Verified GMAT Focus score:\\n675 Q87 V84 DI80 (...</td>\n",
       "      <td>5</td>\n",
       "      <td>70</td>\n",
       "      <td>GMAT Live Prep</td>\n",
       "      <td>Online</td>\n",
       "      <td>Strengths:\\n\\n*Verbal Section\\n*Data Analytics...</td>\n",
       "      <td>2024</td>\n",
       "      <td>November</td>\n",
       "      <td>*verbal section\\n*data analytics\\n*price\\n*liv...</td>\n",
       "      <td>*some typos on verbal questions should be addr...</td>\n",
       "      <td>i used e-gmat to improve my gmat score from 60...</td>\n",
       "      <td>None</td>\n",
       "      <td>h e a d e r s</td>\n",
       "    </tr>\n",
       "    <tr>\n",
       "      <th>1</th>\n",
       "      <td>1</td>\n",
       "      <td>2025-05-13</td>\n",
       "      <td>From 605 to 715– e-GMAT’s Last Mile Program &amp; ...</td>\n",
       "      <td>Mayanksureka</td>\n",
       "      <td>Verified GMAT Focus score:\\n665 Q84 V81 DI84</td>\n",
       "      <td>5</td>\n",
       "      <td>110</td>\n",
       "      <td>Online Focused</td>\n",
       "      <td>Online</td>\n",
       "      <td>Strengths:\\n\\n1. Last Mile Program (LMP) &amp; Men...</td>\n",
       "      <td>2025</td>\n",
       "      <td>May</td>\n",
       "      <td>1. last mile program (lmp) &amp; mentorship\\nlmp a...</td>\n",
       "      <td>i had a good experience with e-gmat so far</td>\n",
       "      <td>i started my gmat journey at 605 and then scor...</td>\n",
       "      <td>1. be consistent—daily effort matters more tha...</td>\n",
       "      <td>h e a d e r s</td>\n",
       "    </tr>\n",
       "    <tr>\n",
       "      <th>2</th>\n",
       "      <td>1</td>\n",
       "      <td>2025-05-12</td>\n",
       "      <td>E-GMAT - Online 360 course (GMAT Focus Test)</td>\n",
       "      <td>Shahshreyans007</td>\n",
       "      <td>Verified GMAT Focus score:\\n695 Q87 V85 DI82</td>\n",
       "      <td>5</td>\n",
       "      <td>200</td>\n",
       "      <td>Online 360</td>\n",
       "      <td>Online</td>\n",
       "      <td>Strengths:\\n\\n1. Adaptive preparation based on...</td>\n",
       "      <td>2025</td>\n",
       "      <td>May</td>\n",
       "      <td>1. adaptive preparation based on your strength...</td>\n",
       "      <td>could increase the number of mock test papers ...</td>\n",
       "      <td>i had purchased e-gmat online 360. it had a ti...</td>\n",
       "      <td>None</td>\n",
       "      <td>h e a d e r s</td>\n",
       "    </tr>\n",
       "    <tr>\n",
       "      <th>3</th>\n",
       "      <td>1</td>\n",
       "      <td>2025-05-12</td>\n",
       "      <td>E-GMAT review</td>\n",
       "      <td>ChitwanM</td>\n",
       "      <td>Verified GMAT Focus score:\\n725 Q90 V84 DI84</td>\n",
       "      <td>5</td>\n",
       "      <td>70</td>\n",
       "      <td>Mentorship</td>\n",
       "      <td>Online</td>\n",
       "      <td>Strengths:\\n\\nTop-Notch Verbal Course (Especia...</td>\n",
       "      <td>2025</td>\n",
       "      <td>May</td>\n",
       "      <td>top-notch verbal course (especially cr):\\nthei...</td>\n",
       "      <td>a dynamic planner that adjusts based on weekly...</td>\n",
       "      <td>scoring a 725 on the gmat wouldn’t have been p...</td>\n",
       "      <td>None</td>\n",
       "      <td>h e a d e r s</td>\n",
       "    </tr>\n",
       "    <tr>\n",
       "      <th>4</th>\n",
       "      <td>1</td>\n",
       "      <td>2025-05-09</td>\n",
       "      <td>Egmat review</td>\n",
       "      <td>avnitjha</td>\n",
       "      <td>Verified GMAT Focus score:\\n725 Q88 V89 DI81</td>\n",
       "      <td>5</td>\n",
       "      <td>70</td>\n",
       "      <td>GMAT Live Prep</td>\n",
       "      <td>Online</td>\n",
       "      <td>e-GMAT was a game-changer in my GMAT Focus pre...</td>\n",
       "      <td>2025</td>\n",
       "      <td>May</td>\n",
       "      <td>e-gmat was a game-changer in my gmat focus pre...</td>\n",
       "      <td>None</td>\n",
       "      <td>None</td>\n",
       "      <td>None</td>\n",
       "      <td>c o n d i t i o n a l</td>\n",
       "    </tr>\n",
       "  </tbody>\n",
       "</table>\n",
       "</div>"
      ],
      "text/plain": [
       "   Page No       Date                                     Review Heading  \\\n",
       "0        1 2024-11-27                                      e-GMAT Review   \n",
       "1        1 2025-05-13  From 605 to 715– e-GMAT’s Last Mile Program & ...   \n",
       "2        1 2025-05-12       E-GMAT - Online 360 course (GMAT Focus Test)   \n",
       "3        1 2025-05-12                                      E-GMAT review   \n",
       "4        1 2025-05-09                                       Egmat review   \n",
       "\n",
       "          Username                                             Scores  Stars  \\\n",
       "0            Sai01  Verified GMAT Focus score:\\n675 Q87 V84 DI80 (...      5   \n",
       "1     Mayanksureka       Verified GMAT Focus score:\\n665 Q84 V81 DI84      5   \n",
       "2  Shahshreyans007       Verified GMAT Focus score:\\n695 Q87 V85 DI82      5   \n",
       "3         ChitwanM       Verified GMAT Focus score:\\n725 Q90 V84 DI84      5   \n",
       "4         avnitjha       Verified GMAT Focus score:\\n725 Q88 V89 DI81      5   \n",
       "\n",
       "   ImprovedPoints          Course Location  \\\n",
       "0              70  GMAT Live Prep   Online   \n",
       "1             110  Online Focused   Online   \n",
       "2             200      Online 360   Online   \n",
       "3              70      Mentorship   Online   \n",
       "4              70  GMAT Live Prep   Online   \n",
       "\n",
       "                                          ReviewBody  Year     Month  \\\n",
       "0  Strengths:\\n\\n*Verbal Section\\n*Data Analytics...  2024  November   \n",
       "1  Strengths:\\n\\n1. Last Mile Program (LMP) & Men...  2025       May   \n",
       "2  Strengths:\\n\\n1. Adaptive preparation based on...  2025       May   \n",
       "3  Strengths:\\n\\nTop-Notch Verbal Course (Especia...  2025       May   \n",
       "4  e-GMAT was a game-changer in my GMAT Focus pre...  2025       May   \n",
       "\n",
       "                                           Strengths  \\\n",
       "0  *verbal section\\n*data analytics\\n*price\\n*liv...   \n",
       "1  1. last mile program (lmp) & mentorship\\nlmp a...   \n",
       "2  1. adaptive preparation based on your strength...   \n",
       "3  top-notch verbal course (especially cr):\\nthei...   \n",
       "4  e-gmat was a game-changer in my gmat focus pre...   \n",
       "\n",
       "                                        Improvements  \\\n",
       "0  *some typos on verbal questions should be addr...   \n",
       "1         i had a good experience with e-gmat so far   \n",
       "2  could increase the number of mock test papers ...   \n",
       "3  a dynamic planner that adjusts based on weekly...   \n",
       "4                                               None   \n",
       "\n",
       "                                  PersonalExperience  \\\n",
       "0  i used e-gmat to improve my gmat score from 60...   \n",
       "1  i started my gmat journey at 605 and then scor...   \n",
       "2  i had purchased e-gmat online 360. it had a ti...   \n",
       "3  scoring a 725 on the gmat wouldn’t have been p...   \n",
       "4                                               None   \n",
       "\n",
       "                                                Tips                   from  \n",
       "0                                               None          h e a d e r s  \n",
       "1  1. be consistent—daily effort matters more tha...          h e a d e r s  \n",
       "2                                               None          h e a d e r s  \n",
       "3                                               None          h e a d e r s  \n",
       "4                                               None  c o n d i t i o n a l  "
      ]
     },
     "execution_count": 80,
     "metadata": {},
     "output_type": "execute_result"
    }
   ],
   "source": [
    "review_segments = pd.DataFrame(data['ReviewBody'].apply(separate_review_segments).tolist(), index = data.index)\n",
    "data = pd.concat([data, review_segments], axis=1)\n",
    "data.head()"
   ]
  },
  {
   "cell_type": "code",
   "execution_count": 81,
   "id": "bb26accf-aab6-4b8d-90ae-b1d4b399a3c4",
   "metadata": {},
   "outputs": [
    {
     "data": {
      "text/plain": [
       "from\n",
       "h e a d e r s            101\n",
       "c o n d i t i o n a l      9\n",
       "Name: count, dtype: int64"
      ]
     },
     "execution_count": 81,
     "metadata": {},
     "output_type": "execute_result"
    }
   ],
   "source": [
    "review_segments['from'].value_counts()"
   ]
  },
  {
   "cell_type": "code",
   "execution_count": 82,
   "id": "91e5ef4f-8887-4325-9aab-699e47e944f9",
   "metadata": {},
   "outputs": [
    {
     "data": {
      "text/plain": [
       "32"
      ]
     },
     "execution_count": 82,
     "metadata": {},
     "output_type": "execute_result"
    }
   ],
   "source": [
    "review_segments['Improvements'].isna().sum()"
   ]
  },
  {
   "cell_type": "markdown",
   "id": "e081df77-a668-4f2e-a853-3c5df71ce01e",
   "metadata": {},
   "source": [
    "## Combine data to get commendations and suggestions"
   ]
  },
  {
   "cell_type": "code",
   "execution_count": 83,
   "id": "30dc403a-ac1c-4d7e-a69c-cdf427564576",
   "metadata": {},
   "outputs": [],
   "source": [
    "import spacy\n",
    "import pandas as pd\n",
    "from collections import defaultdict\n",
    "from string import punctuation\n",
    "\n",
    "nlp = spacy.load(\"en_core_web_lg\")\n",
    "\n",
    "positive_keywords = [\n",
    "    \"good\", \"great\", \"excellent\", \"helpful\", \"outstanding\", \"strong\", \n",
    "    \"best\", \"impressive\", \"beneficial\", \"reCommended\", \"liked\", \"love\", \n",
    "    \"improve\", \"effective\", \"convincing\", \"highly recommend\", \"praise\", \n",
    "    \"appreciate\", \"appreciated\", \"advantage\", \"outstanding\", \"remarkable\", \n",
    "    \"transformative\", \"satisfied\", \"valuable\"\n",
    "]\n",
    "\n",
    "improvement_keywords = [\n",
    "    \"improve\", \"better\", \"suggestion\", \"enhance\", \"however\", \"could be better\", \n",
    "    \"recommend\", \"should be\", \"could improve\", \"problem\", \"issue\", \"recommendation\",\n",
    "    \"needs\", \"would like\", \"suggest\", \"propose\", \"the only\"\n",
    "]\n",
    "\n",
    "def summarize_row(text,type):\n",
    "    doc = nlp(text)\n",
    "\n",
    "    keywords = positive_keywords if type == 'commend' else improvement_keywords\n",
    "    commendations = []\n",
    "    \n",
    "    # Iterate over sentences\n",
    "    for sentence in doc.sents:\n",
    "        # Check if any positive keyword is in the sentence\n",
    "        if any(keyword in sentence.text.lower() for keyword in keywords):\n",
    "            commendations.append(sentence.text.strip())\n",
    "    \n",
    "    # Combine commendations into a concise summary\n",
    "    return \" \".join(commendations)\n"
   ]
  },
  {
   "cell_type": "code",
   "execution_count": 84,
   "id": "543079bc-42be-4e2b-a02e-14bddcf42cff",
   "metadata": {},
   "outputs": [
    {
     "data": {
      "text/html": [
       "<div>\n",
       "<style scoped>\n",
       "    .dataframe tbody tr th:only-of-type {\n",
       "        vertical-align: middle;\n",
       "    }\n",
       "\n",
       "    .dataframe tbody tr th {\n",
       "        vertical-align: top;\n",
       "    }\n",
       "\n",
       "    .dataframe thead th {\n",
       "        text-align: right;\n",
       "    }\n",
       "</style>\n",
       "<table border=\"1\" class=\"dataframe\">\n",
       "  <thead>\n",
       "    <tr style=\"text-align: right;\">\n",
       "      <th></th>\n",
       "      <th>Page No</th>\n",
       "      <th>Date</th>\n",
       "      <th>Review Heading</th>\n",
       "      <th>Username</th>\n",
       "      <th>Scores</th>\n",
       "      <th>Stars</th>\n",
       "      <th>ImprovedPoints</th>\n",
       "      <th>Course</th>\n",
       "      <th>Location</th>\n",
       "      <th>ReviewBody</th>\n",
       "      <th>Year</th>\n",
       "      <th>Month</th>\n",
       "      <th>Strengths</th>\n",
       "      <th>Improvements</th>\n",
       "      <th>PersonalExperience</th>\n",
       "      <th>Tips</th>\n",
       "      <th>from</th>\n",
       "      <th>Commended</th>\n",
       "      <th>Suggested</th>\n",
       "    </tr>\n",
       "  </thead>\n",
       "  <tbody>\n",
       "    <tr>\n",
       "      <th>0</th>\n",
       "      <td>1</td>\n",
       "      <td>2024-11-27</td>\n",
       "      <td>e-GMAT Review</td>\n",
       "      <td>Sai01</td>\n",
       "      <td>Verified GMAT Focus score:\\n675 Q87 V84 DI80 (...</td>\n",
       "      <td>5</td>\n",
       "      <td>70</td>\n",
       "      <td>GMAT Live Prep</td>\n",
       "      <td>Online</td>\n",
       "      <td>Strengths:\\n\\n*Verbal Section\\n*Data Analytics...</td>\n",
       "      <td>2024</td>\n",
       "      <td>November</td>\n",
       "      <td>*verbal section\\n*data analytics\\n*price\\n*liv...</td>\n",
       "      <td>*some typos on verbal questions should be addr...</td>\n",
       "      <td>i used e-gmat to improve my gmat score from 60...</td>\n",
       "      <td>None</td>\n",
       "      <td>h e a d e r s</td>\n",
       "      <td>GMAT Live Prep:\\n*verbal section\\n*data analyt...</td>\n",
       "      <td>GMAT Live Prep:\\n*some typos on verbal questio...</td>\n",
       "    </tr>\n",
       "    <tr>\n",
       "      <th>1</th>\n",
       "      <td>1</td>\n",
       "      <td>2025-05-13</td>\n",
       "      <td>From 605 to 715– e-GMAT’s Last Mile Program &amp; ...</td>\n",
       "      <td>Mayanksureka</td>\n",
       "      <td>Verified GMAT Focus score:\\n665 Q84 V81 DI84</td>\n",
       "      <td>5</td>\n",
       "      <td>110</td>\n",
       "      <td>Online Focused</td>\n",
       "      <td>Online</td>\n",
       "      <td>Strengths:\\n\\n1. Last Mile Program (LMP) &amp; Men...</td>\n",
       "      <td>2025</td>\n",
       "      <td>May</td>\n",
       "      <td>1. last mile program (lmp) &amp; mentorship\\nlmp a...</td>\n",
       "      <td>i had a good experience with e-gmat so far</td>\n",
       "      <td>i started my gmat journey at 605 and then scor...</td>\n",
       "      <td>1. be consistent—daily effort matters more tha...</td>\n",
       "      <td>h e a d e r s</td>\n",
       "      <td>Online Focused:\\n1. last mile program (lmp) &amp; ...</td>\n",
       "      <td>Online Focused:\\ni had a good experience with ...</td>\n",
       "    </tr>\n",
       "    <tr>\n",
       "      <th>2</th>\n",
       "      <td>1</td>\n",
       "      <td>2025-05-12</td>\n",
       "      <td>E-GMAT - Online 360 course (GMAT Focus Test)</td>\n",
       "      <td>Shahshreyans007</td>\n",
       "      <td>Verified GMAT Focus score:\\n695 Q87 V85 DI82</td>\n",
       "      <td>5</td>\n",
       "      <td>200</td>\n",
       "      <td>Online 360</td>\n",
       "      <td>Online</td>\n",
       "      <td>Strengths:\\n\\n1. Adaptive preparation based on...</td>\n",
       "      <td>2025</td>\n",
       "      <td>May</td>\n",
       "      <td>1. adaptive preparation based on your strength...</td>\n",
       "      <td>could increase the number of mock test papers ...</td>\n",
       "      <td>i had purchased e-gmat online 360. it had a ti...</td>\n",
       "      <td>None</td>\n",
       "      <td>h e a d e r s</td>\n",
       "      <td>Online 360:\\n1. adaptive preparation based on ...</td>\n",
       "      <td>Online 360:\\ncould increase the number of mock...</td>\n",
       "    </tr>\n",
       "    <tr>\n",
       "      <th>3</th>\n",
       "      <td>1</td>\n",
       "      <td>2025-05-12</td>\n",
       "      <td>E-GMAT review</td>\n",
       "      <td>ChitwanM</td>\n",
       "      <td>Verified GMAT Focus score:\\n725 Q90 V84 DI84</td>\n",
       "      <td>5</td>\n",
       "      <td>70</td>\n",
       "      <td>Mentorship</td>\n",
       "      <td>Online</td>\n",
       "      <td>Strengths:\\n\\nTop-Notch Verbal Course (Especia...</td>\n",
       "      <td>2025</td>\n",
       "      <td>May</td>\n",
       "      <td>top-notch verbal course (especially cr):\\nthei...</td>\n",
       "      <td>a dynamic planner that adjusts based on weekly...</td>\n",
       "      <td>scoring a 725 on the gmat wouldn’t have been p...</td>\n",
       "      <td>None</td>\n",
       "      <td>h e a d e r s</td>\n",
       "      <td>Mentorship:\\ntop-notch verbal course (especial...</td>\n",
       "      <td>Mentorship:\\na dynamic planner that adjusts ba...</td>\n",
       "    </tr>\n",
       "    <tr>\n",
       "      <th>4</th>\n",
       "      <td>1</td>\n",
       "      <td>2025-05-09</td>\n",
       "      <td>Egmat review</td>\n",
       "      <td>avnitjha</td>\n",
       "      <td>Verified GMAT Focus score:\\n725 Q88 V89 DI81</td>\n",
       "      <td>5</td>\n",
       "      <td>70</td>\n",
       "      <td>GMAT Live Prep</td>\n",
       "      <td>Online</td>\n",
       "      <td>e-GMAT was a game-changer in my GMAT Focus pre...</td>\n",
       "      <td>2025</td>\n",
       "      <td>May</td>\n",
       "      <td>e-gmat was a game-changer in my gmat focus pre...</td>\n",
       "      <td>None</td>\n",
       "      <td>None</td>\n",
       "      <td>None</td>\n",
       "      <td>c o n d i t i o n a l</td>\n",
       "      <td>GMAT Live Prep:\\ne-gmat was a game-changer in ...</td>\n",
       "      <td>GMAT Live Prep:\\nnil</td>\n",
       "    </tr>\n",
       "  </tbody>\n",
       "</table>\n",
       "</div>"
      ],
      "text/plain": [
       "   Page No       Date                                     Review Heading  \\\n",
       "0        1 2024-11-27                                      e-GMAT Review   \n",
       "1        1 2025-05-13  From 605 to 715– e-GMAT’s Last Mile Program & ...   \n",
       "2        1 2025-05-12       E-GMAT - Online 360 course (GMAT Focus Test)   \n",
       "3        1 2025-05-12                                      E-GMAT review   \n",
       "4        1 2025-05-09                                       Egmat review   \n",
       "\n",
       "          Username                                             Scores  Stars  \\\n",
       "0            Sai01  Verified GMAT Focus score:\\n675 Q87 V84 DI80 (...      5   \n",
       "1     Mayanksureka       Verified GMAT Focus score:\\n665 Q84 V81 DI84      5   \n",
       "2  Shahshreyans007       Verified GMAT Focus score:\\n695 Q87 V85 DI82      5   \n",
       "3         ChitwanM       Verified GMAT Focus score:\\n725 Q90 V84 DI84      5   \n",
       "4         avnitjha       Verified GMAT Focus score:\\n725 Q88 V89 DI81      5   \n",
       "\n",
       "   ImprovedPoints          Course Location  \\\n",
       "0              70  GMAT Live Prep   Online   \n",
       "1             110  Online Focused   Online   \n",
       "2             200      Online 360   Online   \n",
       "3              70      Mentorship   Online   \n",
       "4              70  GMAT Live Prep   Online   \n",
       "\n",
       "                                          ReviewBody  Year     Month  \\\n",
       "0  Strengths:\\n\\n*Verbal Section\\n*Data Analytics...  2024  November   \n",
       "1  Strengths:\\n\\n1. Last Mile Program (LMP) & Men...  2025       May   \n",
       "2  Strengths:\\n\\n1. Adaptive preparation based on...  2025       May   \n",
       "3  Strengths:\\n\\nTop-Notch Verbal Course (Especia...  2025       May   \n",
       "4  e-GMAT was a game-changer in my GMAT Focus pre...  2025       May   \n",
       "\n",
       "                                           Strengths  \\\n",
       "0  *verbal section\\n*data analytics\\n*price\\n*liv...   \n",
       "1  1. last mile program (lmp) & mentorship\\nlmp a...   \n",
       "2  1. adaptive preparation based on your strength...   \n",
       "3  top-notch verbal course (especially cr):\\nthei...   \n",
       "4  e-gmat was a game-changer in my gmat focus pre...   \n",
       "\n",
       "                                        Improvements  \\\n",
       "0  *some typos on verbal questions should be addr...   \n",
       "1         i had a good experience with e-gmat so far   \n",
       "2  could increase the number of mock test papers ...   \n",
       "3  a dynamic planner that adjusts based on weekly...   \n",
       "4                                               None   \n",
       "\n",
       "                                  PersonalExperience  \\\n",
       "0  i used e-gmat to improve my gmat score from 60...   \n",
       "1  i started my gmat journey at 605 and then scor...   \n",
       "2  i had purchased e-gmat online 360. it had a ti...   \n",
       "3  scoring a 725 on the gmat wouldn’t have been p...   \n",
       "4                                               None   \n",
       "\n",
       "                                                Tips                   from  \\\n",
       "0                                               None          h e a d e r s   \n",
       "1  1. be consistent—daily effort matters more tha...          h e a d e r s   \n",
       "2                                               None          h e a d e r s   \n",
       "3                                               None          h e a d e r s   \n",
       "4                                               None  c o n d i t i o n a l   \n",
       "\n",
       "                                           Commended  \\\n",
       "0  GMAT Live Prep:\\n*verbal section\\n*data analyt...   \n",
       "1  Online Focused:\\n1. last mile program (lmp) & ...   \n",
       "2  Online 360:\\n1. adaptive preparation based on ...   \n",
       "3  Mentorship:\\ntop-notch verbal course (especial...   \n",
       "4  GMAT Live Prep:\\ne-gmat was a game-changer in ...   \n",
       "\n",
       "                                           Suggested  \n",
       "0  GMAT Live Prep:\\n*some typos on verbal questio...  \n",
       "1  Online Focused:\\ni had a good experience with ...  \n",
       "2  Online 360:\\ncould increase the number of mock...  \n",
       "3  Mentorship:\\na dynamic planner that adjusts ba...  \n",
       "4                               GMAT Live Prep:\\nnil  "
      ]
     },
     "execution_count": 84,
     "metadata": {},
     "output_type": "execute_result"
    }
   ],
   "source": [
    "data['Commended'] = data.apply(\n",
    "    lambda row: summarize_row(' '.join(filter(None, [str(row['Strengths']), str(row['PersonalExperience'])])), 'commend')\n",
    "    if row['from'] == 'conditional' else row['Strengths'],\n",
    "    axis=1\n",
    ")\n",
    "# data['Commended'] = data[['Strengths','PersonalExperience']].fillna('').apply(' '.join, axis=1)\n",
    "# combined = pd.DataFrame(data['Commended'].apply(lambda x: summarize_row(x, 'commend')), index = data.index)\n",
    "# data['Commended'] = combined\n",
    "data['Commended'] = data[['Course','Commended']].fillna('nil').apply(':\\n'.join, axis=1)\n",
    "\n",
    "data['Suggested'] = data.apply(\n",
    "    lambda row: summarize_row(' '.join(filter(None, [str(row['Improvements']), str(row['PersonalExperience'])])), 'suggest')\n",
    "    if row['from'] == 'conditional' else row['Improvements'],\n",
    "    axis=1\n",
    ")\n",
    "# data['Suggested'] = data[['Improvements','PersonalExperience']].fillna('').apply(' '.join, axis=1)\n",
    "# combined = pd.DataFrame(data['suggested'].apply(lambda x: summarize_row(x, 'suggest')), index = data.index)\n",
    "# data['Suggested'] = combined\n",
    "data['Suggested'] = data[['Course','Suggested']].fillna('nil').apply(':\\n'.join, axis=1)\n",
    "\n",
    "data.head()"
   ]
  },
  {
   "cell_type": "code",
   "execution_count": 85,
   "id": "b2f89f62-8784-4878-aea4-cb69ea901b4e",
   "metadata": {},
   "outputs": [
    {
     "data": {
      "text/plain": [
       "\"Online Focused:\\ncontent and question bank\\n\\ni recently took the gmat (offline) and scored 685 (q88 v81 di83).\\nself study phase : i utilized gmat club and gmatninja which got me till 645. however, i had hit a plateau at 645 and needed to identify gaps and fine tune my weaker areas.\\nafter taking trial for most of the courses out there, i chose e-gmat because of the detailed and diverse categorization of topics and practice material on their platform.\\n\\nlmp : i was enrolled in the last mile push program, i worked closely with my mentor abha, who helped me with identifying the areas requiring a back-to-basics approach and those needing more practice.\\nas a result, my accuracy improved significantly in verbal and di. in quant, we fine-tuned my problem-solving process for specific topics that were taking longer than average to solve.\\n\\noverall, i found e-gmat's content to be very carefully crafted, covering all aspects and question types you might encounter on the exam. the platform is excellent, enabling you to identify weak areas and track your progress over time.\""
      ]
     },
     "execution_count": 85,
     "metadata": {},
     "output_type": "execute_result"
    }
   ],
   "source": [
    "#### debug outputs\n",
    "data.loc[55]['Commended']"
   ]
  },
  {
   "cell_type": "code",
   "execution_count": 104,
   "id": "f3331913-1673-44a3-b304-73c553941f34",
   "metadata": {},
   "outputs": [
    {
     "data": {
      "text/plain": [
       "'Online 360:\\ni feel the quant section needs to be re-evaluated.\\nthe estimated course durations are not accurate.\\nthe study plan set for me was far from realistic.'"
      ]
     },
     "execution_count": 104,
     "metadata": {},
     "output_type": "execute_result"
    }
   ],
   "source": [
    "#### debug outputs\n",
    "data.loc[55]['Suggested']"
   ]
  },
  {
   "cell_type": "code",
   "execution_count": 87,
   "id": "5d614da3-7211-4d25-a769-814b909fc804",
   "metadata": {},
   "outputs": [
    {
     "data": {
      "text/plain": [
       "\"content and question bank\\n\\ni recently took the gmat (offline) and scored 685 (q88 v81 di83).\\nself study phase : i utilized gmat club and gmatninja which got me till 645. however, i had hit a plateau at 645 and needed to identify gaps and fine tune my weaker areas.\\nafter taking trial for most of the courses out there, i chose e-gmat because of the detailed and diverse categorization of topics and practice material on their platform.\\n\\nlmp : i was enrolled in the last mile push program, i worked closely with my mentor abha, who helped me with identifying the areas requiring a back-to-basics approach and those needing more practice.\\nas a result, my accuracy improved significantly in verbal and di. in quant, we fine-tuned my problem-solving process for specific topics that were taking longer than average to solve.\\n\\noverall, i found e-gmat's content to be very carefully crafted, covering all aspects and question types you might encounter on the exam. the platform is excellent, enabling you to identify weak areas and track your progress over time.\""
      ]
     },
     "execution_count": 87,
     "metadata": {},
     "output_type": "execute_result"
    }
   ],
   "source": [
    "#### debug outputs\n",
    "review_segments.loc[50]['Strengths']"
   ]
  },
  {
   "cell_type": "code",
   "execution_count": 88,
   "id": "cfdc50b2-532c-442f-b8d2-9d0b144d209f",
   "metadata": {},
   "outputs": [],
   "source": [
    "#### debug outputs\n",
    "review_segments.loc[50]['Improvements']"
   ]
  },
  {
   "cell_type": "code",
   "execution_count": 89,
   "id": "b9579e83-9f49-45ea-bf45-46517262b144",
   "metadata": {},
   "outputs": [
    {
     "data": {
      "text/plain": [
       "\"i had been preparing for the gmat for quite some time on my own, but didn't have a structured method or proper understanding of the concepts that are actually tested on the gmat. after someone recommended e-gmat, i gave it a go and was immediately impressed with what they have been able to put together. the courses for all 3 sections are very well structured and emphasize on strengthening core concepts instead of just solving questions mindlessly. this changed the way i was looking at verbal reasoning and enabled me to consistently score v80+.\\n\\ni was mentored by rashmi in the last mile push (lmp) program, which is a customized plan for the last 4-5 weeks before the official exam. it was a great experience getting feedback from an experienced mentor about how to overcome some of the last-minute challenges and maintain consistency; and finally how to make sure you do your absolute best on the official exam.\\n\\nmy takeaway\\n1. build trust in structured processes, own them and stick to them on test day.\\n2. practice consistently and challenge yourself with hard problems.\\n5. manage your time effectively and learn to move-on. getting stuck somewhere and wasting time is never the right choice.\\n6. always start new sections afresh, forget how the previous one went and put your entire focus into acing this one - one bad section will not affect your score if you're able to ace the rest\""
      ]
     },
     "execution_count": 89,
     "metadata": {},
     "output_type": "execute_result"
    }
   ],
   "source": [
    "#### debug outputs\n",
    "review_segments.loc[5]['PersonalExperience']"
   ]
  },
  {
   "cell_type": "code",
   "execution_count": 91,
   "id": "ad6a1bdd-d756-480c-9395-e6b1a0977fc2",
   "metadata": {},
   "outputs": [
    {
     "name": "stdout",
     "output_type": "stream",
     "text": [
      "Strengths:\n",
      "\n",
      "Content and Question Bank\n",
      "\n",
      "I recently took the GMAT (offline) and scored 685 (Q88 V81 DI83).\n",
      "Self Study phase : I utilized GMAT Club and GmatNinja which got me till 645. However, I had hit a plateau at 645 and needed to identify gaps and fine tune my weaker areas.\n",
      "After taking trial for most of the courses out there, I chose e-Gmat because of the detailed and diverse categorization of topics and practice material on their platform.\n",
      "\n",
      "LMP : I was enrolled in the Last Mile Push Program, I worked closely with my mentor Abha, who helped me with identifying the areas requiring a back-to-basics approach and those needing more practice.\n",
      "As a result, My accuracy improved significantly in Verbal and DI. In Quant, we fine-tuned my problem-solving process for specific topics that were taking longer than average to solve.\n",
      "\n",
      "Overall, I found e-GMAT's content to be very carefully crafted, covering all aspects and question types you might encounter on the exam. The platform is excellent, enabling you to identify weak areas and track your progress over time.\n"
     ]
    }
   ],
   "source": [
    "#### debug outputs\n",
    "print(format_review(data.loc[50]['ReviewBody']))"
   ]
  },
  {
   "cell_type": "markdown",
   "id": "07ef5b6b-8286-415e-8a03-395c1939a77e",
   "metadata": {},
   "source": [
    "### Unique review contents and counts"
   ]
  },
  {
   "cell_type": "code",
   "execution_count": 92,
   "id": "7a76e42f-b6f8-4263-aa12-54fc60535fa3",
   "metadata": {},
   "outputs": [
    {
     "data": {
      "text/plain": [
       "Review Heading\n",
       "e-GMAT Review                                                                   3\n",
       "E-GMAT review                                                                   2\n",
       "e-GMAT Review: A Comprehensive GMAT Preparation Experience                      2\n",
       "My GMAT Journey with e-GMAT                                                     2\n",
       "A shot at consistency over uncertainty                                          1\n",
       "                                                                               ..\n",
       "Supremly structured customised course for all duration - 15 days to 4 months    1\n",
       "Egmat focused edition                                                           1\n",
       "Outstanding GMAT Prep Resource – e-GMAT!                                        1\n",
       "Very well structured and Scientific Course                                      1\n",
       "eGMAT - Course review                                                           1\n",
       "Name: count, Length: 105, dtype: int64"
      ]
     },
     "execution_count": 92,
     "metadata": {},
     "output_type": "execute_result"
    }
   ],
   "source": [
    "data['Review Heading'].value_counts()"
   ]
  },
  {
   "cell_type": "code",
   "execution_count": 93,
   "id": "63df9d9f-4e07-43fa-8739-56b77cdb1200",
   "metadata": {},
   "outputs": [
    {
     "data": {
      "text/plain": [
       "Location\n",
       "Online    110\n",
       "Name: count, dtype: int64"
      ]
     },
     "execution_count": 93,
     "metadata": {},
     "output_type": "execute_result"
    }
   ],
   "source": [
    "data['Location'].value_counts()"
   ]
  },
  {
   "cell_type": "code",
   "execution_count": 94,
   "id": "88845953-e50f-4df0-b32c-3f7689c5bb6d",
   "metadata": {},
   "outputs": [
    {
     "data": {
      "text/plain": [
       "Course\n",
       "Online 360          46\n",
       "Online Focused      44\n",
       "Mentorship           8\n",
       "Online Intensive     7\n",
       "GMAT Live Prep       5\n",
       "Name: count, dtype: int64"
      ]
     },
     "execution_count": 94,
     "metadata": {},
     "output_type": "execute_result"
    }
   ],
   "source": [
    "data['Course'].value_counts()"
   ]
  },
  {
   "cell_type": "code",
   "execution_count": 66,
   "id": "62703e20-4e53-4439-8a0d-88fd48467843",
   "metadata": {},
   "outputs": [
    {
     "data": {
      "text/plain": [
       "Page No                 0\n",
       "Date of Post            0\n",
       "Review Heading          0\n",
       "Username                0\n",
       "Scores                  2\n",
       "Stars                   0\n",
       "Improvement            16\n",
       "Course                  0\n",
       "Location                0\n",
       "ReviewBody              0\n",
       "Strengths              13\n",
       "Improvements           32\n",
       "PersonalExperience      5\n",
       "Tips                  109\n",
       "from                    0\n",
       "Commended               0\n",
       "Suggested               0\n",
       "dtype: int64"
      ]
     },
     "execution_count": 66,
     "metadata": {},
     "output_type": "execute_result"
    }
   ],
   "source": [
    "data.isnull().sum()"
   ]
  },
  {
   "cell_type": "markdown",
   "id": "bf332a1c-80cc-4474-b52e-5ff55d77684a",
   "metadata": {},
   "source": [
    "## Save modified df"
   ]
  },
  {
   "cell_type": "code",
   "execution_count": 95,
   "id": "16501068-36b1-4fad-9f69-7fbefa101236",
   "metadata": {},
   "outputs": [],
   "source": [
    "data.to_csv('e-GMAT_GMAT_Club_Reviews.csv')"
   ]
  },
  {
   "cell_type": "markdown",
   "id": "9dec2096-0b6c-477d-8ed2-76a1030fb421",
   "metadata": {},
   "source": [
    "## Visualization"
   ]
  },
  {
   "cell_type": "code",
   "execution_count": 32,
   "id": "7de48752-f08a-4790-9912-315bd6207753",
   "metadata": {},
   "outputs": [
    {
     "data": {
      "image/png": "[encoded data removed]",
      "text/plain": [
       "<Figure size 700x600 with 2 Axes>"
      ]
     },
     "metadata": {},
     "output_type": "display_data"
    }
   ],
   "source": [
    "heatmap_data = pd.crosstab(data['ImprovedPoints'], course_data)\n",
    "\n",
    "# Plot\n",
    "plt.figure(figsize=(7, 6))\n",
    "snb.heatmap(heatmap_data, annot=True, fmt='d', cmap='YlGnBu')\n",
    "plt.title('Improvement Frequency by Course')\n",
    "plt.xlabel('Course Type')\n",
    "plt.ylabel('Points Increased')\n",
    "plt.xticks(rotation=45)\n",
    "plt.show()"
   ]
  },
  {
   "cell_type": "code",
   "execution_count": 34,
   "id": "c6f8a099-52f8-4031-b8a6-6c70629ee1e5",
   "metadata": {},
   "outputs": [
    {
     "data": {
      "image/png": "[encoded data removed]",
      "text/plain": [
       "<Figure size 1200x600 with 1 Axes>"
      ]
     },
     "metadata": {},
     "output_type": "display_data"
    }
   ],
   "source": [
    "# Plot\n",
    "plt.figure(figsize=(12, 6))\n",
    "snb.boxplot(x='Course', y='ImprovedPoints', data=data, palette='viridis')\n",
    "plt.title('Distribution of Improvement Points by Course')\n",
    "plt.xticks(rotation=45)\n",
    "plt.show()"
   ]
  },
  {
   "cell_type": "code",
   "execution_count": null,
   "id": "61b50d18-010e-446e-9126-d78911ca3b7d",
   "metadata": {},
   "outputs": [],
   "source": []
  }
 ],
 "metadata": {
  "kernelspec": {
   "display_name": "Python 3 (ipykernel)",
   "language": "python",
   "name": "python3"
  },
  "language_info": {
   "codemirror_mode": {
    "name": "ipython",
    "version": 3
   },
   "file_extension": ".py",
   "mimetype": "text/x-python",
   "name": "python",
   "nbconvert_exporter": "python",
   "pygments_lexer": "ipython3",
   "version": "3.11.7"
  }
 },
 "nbformat": 4,
 "nbformat_minor": 5
}
