{
 "cells": [
  {
   "cell_type": "code",
   "execution_count": 1,
   "id": "fa6fc3e4-fa3f-465f-91ae-f6cf07a29706",
   "metadata": {},
   "outputs": [
    {
     "name": "stdout",
     "output_type": "stream",
     "text": [
      "Collecting sqlalchemy==1.3.9\n",
      "  Downloading SQLAlchemy-1.3.9.tar.gz (6.0 MB)\n",
      "     ---------------------------------------- 0.0/6.0 MB ? eta -:--:--\n",
      "     - -------------------------------------- 0.3/6.0 MB ? eta -:--:--\n",
      "     ----- ---------------------------------- 0.8/6.0 MB 2.8 MB/s eta 0:00:02\n",
      "     ---------- ----------------------------- 1.6/6.0 MB 2.9 MB/s eta 0:00:02\n",
      "     --------------- ------------------------ 2.4/6.0 MB 3.0 MB/s eta 0:00:02\n",
      "     ------------------- -------------------- 2.9/6.0 MB 3.1 MB/s eta 0:00:01\n",
      "     ------------------------ --------------- 3.7/6.0 MB 3.2 MB/s eta 0:00:01\n",
      "     ----------------------------- ---------- 4.5/6.0 MB 3.3 MB/s eta 0:00:01\n",
      "     ----------------------------------- ---- 5.2/6.0 MB 3.4 MB/s eta 0:00:01\n",
      "     ---------------------------------------- 6.0/6.0 MB 3.3 MB/s eta 0:00:00\n",
      "  Preparing metadata (setup.py): started\n",
      "  Preparing metadata (setup.py): finished with status 'done'\n",
      "Building wheels for collected packages: sqlalchemy\n",
      "  Building wheel for sqlalchemy (setup.py): started\n",
      "  Building wheel for sqlalchemy (setup.py): finished with status 'done'\n",
      "  Created wheel for sqlalchemy: filename=SQLAlchemy-1.3.9-cp311-cp311-win_amd64.whl size=1164163 sha256=c034078de12440266f7b571abb7bddbff5dc74dc915fa4df61119115b9e0dbfa\n",
      "  Stored in directory: c:\\users\\yaamini\\appdata\\local\\pip\\cache\\wheels\\3a\\7c\\1e\\12404784a68083eb969f877a1808a1847bab897684b56ddc55\n",
      "Successfully built sqlalchemy\n",
      "Installing collected packages: sqlalchemy\n",
      "  Attempting uninstall: sqlalchemy\n",
      "    Found existing installation: SQLAlchemy 2.0.25\n",
      "    Uninstalling SQLAlchemy-2.0.25:\n",
      "      Successfully uninstalled SQLAlchemy-2.0.25\n",
      "Successfully installed sqlalchemy-1.3.9\n"
     ]
    },
    {
     "name": "stderr",
     "output_type": "stream",
     "text": [
      "  DEPRECATION: Building 'sqlalchemy' using the legacy setup.py bdist_wheel mechanism, which will be removed in a future version. pip 25.3 will enforce this behaviour change. A possible replacement is to use the standardized build interface by setting the `--use-pep517` option, (possibly combined with `--no-build-isolation`), or adding a `pyproject.toml` file to the source tree of 'sqlalchemy'. Discussion can be found at https://github.com/pypa/pip/issues/6334\n"
     ]
    },
    {
     "name": "stdout",
     "output_type": "stream",
     "text": [
      "Collecting ipython-sql\n",
      "  Downloading ipython_sql-0.5.0-py3-none-any.whl.metadata (17 kB)\n",
      "Collecting prettytable (from ipython-sql)\n",
      "  Downloading prettytable-3.16.0-py3-none-any.whl.metadata (33 kB)\n",
      "Requirement already satisfied: ipython in c:\\gowdata\\installedprograms\\anaconda\\lib\\site-packages (from ipython-sql) (8.20.0)\n",
      "Collecting sqlalchemy>=2.0 (from ipython-sql)\n",
      "  Downloading sqlalchemy-2.0.41-cp311-cp311-win_amd64.whl.metadata (9.8 kB)\n",
      "Collecting sqlparse (from ipython-sql)\n",
      "  Downloading sqlparse-0.5.3-py3-none-any.whl.metadata (3.9 kB)\n",
      "Requirement already satisfied: six in c:\\gowdata\\installedprograms\\anaconda\\lib\\site-packages (from ipython-sql) (1.16.0)\n",
      "Requirement already satisfied: ipython-genutils in c:\\gowdata\\installedprograms\\anaconda\\lib\\site-packages (from ipython-sql) (0.2.0)\n",
      "Requirement already satisfied: greenlet>=1 in c:\\gowdata\\installedprograms\\anaconda\\lib\\site-packages (from sqlalchemy>=2.0->ipython-sql) (3.0.1)\n",
      "Requirement already satisfied: typing-extensions>=4.6.0 in c:\\gowdata\\installedprograms\\anaconda\\lib\\site-packages (from sqlalchemy>=2.0->ipython-sql) (4.13.2)\n",
      "Requirement already satisfied: decorator in c:\\gowdata\\installedprograms\\anaconda\\lib\\site-packages (from ipython->ipython-sql) (5.1.1)\n",
      "Requirement already satisfied: jedi>=0.16 in c:\\gowdata\\installedprograms\\anaconda\\lib\\site-packages (from ipython->ipython-sql) (0.18.1)\n",
      "Requirement already satisfied: matplotlib-inline in c:\\gowdata\\installedprograms\\anaconda\\lib\\site-packages (from ipython->ipython-sql) (0.1.6)\n",
      "Requirement already satisfied: prompt-toolkit<3.1.0,>=3.0.41 in c:\\gowdata\\installedprograms\\anaconda\\lib\\site-packages (from ipython->ipython-sql) (3.0.43)\n",
      "Requirement already satisfied: pygments>=2.4.0 in c:\\gowdata\\installedprograms\\anaconda\\lib\\site-packages (from ipython->ipython-sql) (2.15.1)\n",
      "Requirement already satisfied: stack-data in c:\\gowdata\\installedprograms\\anaconda\\lib\\site-packages (from ipython->ipython-sql) (0.2.0)\n",
      "Requirement already satisfied: traitlets>=5 in c:\\gowdata\\installedprograms\\anaconda\\lib\\site-packages (from ipython->ipython-sql) (5.7.1)\n",
      "Requirement already satisfied: colorama in c:\\gowdata\\installedprograms\\anaconda\\lib\\site-packages (from ipython->ipython-sql) (0.4.6)\n",
      "Requirement already satisfied: wcwidth in c:\\gowdata\\installedprograms\\anaconda\\lib\\site-packages (from prompt-toolkit<3.1.0,>=3.0.41->ipython->ipython-sql) (0.2.5)\n",
      "Requirement already satisfied: parso<0.9.0,>=0.8.0 in c:\\gowdata\\installedprograms\\anaconda\\lib\\site-packages (from jedi>=0.16->ipython->ipython-sql) (0.8.3)\n",
      "Requirement already satisfied: executing in c:\\gowdata\\installedprograms\\anaconda\\lib\\site-packages (from stack-data->ipython->ipython-sql) (0.8.3)\n",
      "Requirement already satisfied: asttokens in c:\\gowdata\\installedprograms\\anaconda\\lib\\site-packages (from stack-data->ipython->ipython-sql) (2.0.5)\n",
      "Requirement already satisfied: pure-eval in c:\\gowdata\\installedprograms\\anaconda\\lib\\site-packages (from stack-data->ipython->ipython-sql) (0.2.2)\n",
      "Downloading ipython_sql-0.5.0-py3-none-any.whl (20 kB)\n",
      "Downloading sqlalchemy-2.0.41-cp311-cp311-win_amd64.whl (2.1 MB)\n",
      "   ---------------------------------------- 0.0/2.1 MB ? eta -:--:--\n",
      "   --------- ------------------------------ 0.5/2.1 MB 2.8 MB/s eta 0:00:01\n",
      "   ------------------- -------------------- 1.0/2.1 MB 2.6 MB/s eta 0:00:01\n",
      "   ----------------------------- ---------- 1.6/2.1 MB 2.8 MB/s eta 0:00:01\n",
      "   ---------------------------------------- 2.1/2.1 MB 2.7 MB/s eta 0:00:00\n",
      "Downloading prettytable-3.16.0-py3-none-any.whl (33 kB)\n",
      "Downloading sqlparse-0.5.3-py3-none-any.whl (44 kB)\n",
      "Installing collected packages: sqlparse, sqlalchemy, prettytable, ipython-sql\n",
      "\n",
      "   ---------------------------------------- 0/4 [sqlparse]\n",
      "   ---------------------------------------- 0/4 [sqlparse]\n",
      "  Attempting uninstall: sqlalchemy\n",
      "   ---------------------------------------- 0/4 [sqlparse]\n",
      "    Found existing installation: SQLAlchemy 1.3.9\n",
      "   ---------------------------------------- 0/4 [sqlparse]\n",
      "   ---------- ----------------------------- 1/4 [sqlalchemy]\n",
      "    Uninstalling SQLAlchemy-1.3.9:\n",
      "   ---------- ----------------------------- 1/4 [sqlalchemy]\n",
      "      Successfully uninstalled SQLAlchemy-1.3.9\n",
      "   ---------- ----------------------------- 1/4 [sqlalchemy]\n",
      "   ---------- ----------------------------- 1/4 [sqlalchemy]\n",
      "   ---------- ----------------------------- 1/4 [sqlalchemy]\n",
      "   ---------- ----------------------------- 1/4 [sqlalchemy]\n",
      "   ---------- ----------------------------- 1/4 [sqlalchemy]\n",
      "   ---------- ----------------------------- 1/4 [sqlalchemy]\n",
      "   ---------- ----------------------------- 1/4 [sqlalchemy]\n",
      "   ---------- ----------------------------- 1/4 [sqlalchemy]\n",
      "   ---------- ----------------------------- 1/4 [sqlalchemy]\n",
      "   ---------- ----------------------------- 1/4 [sqlalchemy]\n",
      "   ---------- ----------------------------- 1/4 [sqlalchemy]\n",
      "   ---------- ----------------------------- 1/4 [sqlalchemy]\n",
      "   ---------- ----------------------------- 1/4 [sqlalchemy]\n",
      "   ---------- ----------------------------- 1/4 [sqlalchemy]\n",
      "   ---------- ----------------------------- 1/4 [sqlalchemy]\n",
      "   ---------- ----------------------------- 1/4 [sqlalchemy]\n",
      "   ---------- ----------------------------- 1/4 [sqlalchemy]\n",
      "   ---------- ----------------------------- 1/4 [sqlalchemy]\n",
      "   ---------- ----------------------------- 1/4 [sqlalchemy]\n",
      "   ---------- ----------------------------- 1/4 [sqlalchemy]\n",
      "   ---------- ----------------------------- 1/4 [sqlalchemy]\n",
      "   ---------- ----------------------------- 1/4 [sqlalchemy]\n",
      "   ---------- ----------------------------- 1/4 [sqlalchemy]\n",
      "   ---------- ----------------------------- 1/4 [sqlalchemy]\n",
      "   ---------- ----------------------------- 1/4 [sqlalchemy]\n",
      "   ---------- ----------------------------- 1/4 [sqlalchemy]\n",
      "   ---------- ----------------------------- 1/4 [sqlalchemy]\n",
      "   ---------- ----------------------------- 1/4 [sqlalchemy]\n",
      "   ---------- ----------------------------- 1/4 [sqlalchemy]\n",
      "   ---------- ----------------------------- 1/4 [sqlalchemy]\n",
      "   -------------------- ------------------- 2/4 [prettytable]\n",
      "   ---------------------------------------- 4/4 [ipython-sql]\n",
      "\n",
      "Successfully installed ipython-sql-0.5.0 prettytable-3.16.0 sqlalchemy-2.0.41 sqlparse-0.5.3\n",
      "Requirement already satisfied: ipython-sql in c:\\gowdata\\installedprograms\\anaconda\\lib\\site-packages (0.5.0)\n",
      "Requirement already satisfied: prettytable in c:\\gowdata\\installedprograms\\anaconda\\lib\\site-packages (3.16.0)\n",
      "Requirement already satisfied: ipython in c:\\gowdata\\installedprograms\\anaconda\\lib\\site-packages (from ipython-sql) (8.20.0)\n",
      "Requirement already satisfied: sqlalchemy>=2.0 in c:\\gowdata\\installedprograms\\anaconda\\lib\\site-packages (from ipython-sql) (2.0.41)\n",
      "Requirement already satisfied: sqlparse in c:\\gowdata\\installedprograms\\anaconda\\lib\\site-packages (from ipython-sql) (0.5.3)\n",
      "Requirement already satisfied: six in c:\\gowdata\\installedprograms\\anaconda\\lib\\site-packages (from ipython-sql) (1.16.0)\n",
      "Requirement already satisfied: ipython-genutils in c:\\gowdata\\installedprograms\\anaconda\\lib\\site-packages (from ipython-sql) (0.2.0)\n",
      "Requirement already satisfied: wcwidth in c:\\gowdata\\installedprograms\\anaconda\\lib\\site-packages (from prettytable) (0.2.5)\n",
      "Requirement already satisfied: greenlet>=1 in c:\\gowdata\\installedprograms\\anaconda\\lib\\site-packages (from sqlalchemy>=2.0->ipython-sql) (3.0.1)\n",
      "Requirement already satisfied: typing-extensions>=4.6.0 in c:\\gowdata\\installedprograms\\anaconda\\lib\\site-packages (from sqlalchemy>=2.0->ipython-sql) (4.13.2)\n",
      "Requirement already satisfied: decorator in c:\\gowdata\\installedprograms\\anaconda\\lib\\site-packages (from ipython->ipython-sql) (5.1.1)\n",
      "Requirement already satisfied: jedi>=0.16 in c:\\gowdata\\installedprograms\\anaconda\\lib\\site-packages (from ipython->ipython-sql) (0.18.1)\n",
      "Requirement already satisfied: matplotlib-inline in c:\\gowdata\\installedprograms\\anaconda\\lib\\site-packages (from ipython->ipython-sql) (0.1.6)\n",
      "Requirement already satisfied: prompt-toolkit<3.1.0,>=3.0.41 in c:\\gowdata\\installedprograms\\anaconda\\lib\\site-packages (from ipython->ipython-sql) (3.0.43)\n",
      "Requirement already satisfied: pygments>=2.4.0 in c:\\gowdata\\installedprograms\\anaconda\\lib\\site-packages (from ipython->ipython-sql) (2.15.1)\n",
      "Requirement already satisfied: stack-data in c:\\gowdata\\installedprograms\\anaconda\\lib\\site-packages (from ipython->ipython-sql) (0.2.0)\n",
      "Requirement already satisfied: traitlets>=5 in c:\\gowdata\\installedprograms\\anaconda\\lib\\site-packages (from ipython->ipython-sql) (5.7.1)\n",
      "Requirement already satisfied: colorama in c:\\gowdata\\installedprograms\\anaconda\\lib\\site-packages (from ipython->ipython-sql) (0.4.6)\n",
      "Requirement already satisfied: parso<0.9.0,>=0.8.0 in c:\\gowdata\\installedprograms\\anaconda\\lib\\site-packages (from jedi>=0.16->ipython->ipython-sql) (0.8.3)\n",
      "Requirement already satisfied: executing in c:\\gowdata\\installedprograms\\anaconda\\lib\\site-packages (from stack-data->ipython->ipython-sql) (0.8.3)\n",
      "Requirement already satisfied: asttokens in c:\\gowdata\\installedprograms\\anaconda\\lib\\site-packages (from stack-data->ipython->ipython-sql) (2.0.5)\n",
      "Requirement already satisfied: pure-eval in c:\\gowdata\\installedprograms\\anaconda\\lib\\site-packages (from stack-data->ipython->ipython-sql) (0.2.2)\n"
     ]
    }
   ],
   "source": [
    "!pip install sqlalchemy==1.3.9\n",
    "!pip install ipython-sql\n",
    "!pip install ipython-sql prettytable"
   ]
  },
  {
   "cell_type": "code",
   "execution_count": 1,
   "id": "3c432605-c9fa-4177-a3cf-0253cafeb0d3",
   "metadata": {},
   "outputs": [],
   "source": [
    "%load_ext sql"
   ]
  },
  {
   "cell_type": "code",
   "execution_count": 2,
   "id": "45cc095a-5dd0-48e5-bb12-64280530fc66",
   "metadata": {},
   "outputs": [],
   "source": [
    "import csv, sqlite3\n",
    "import prettytable\n",
    "prettytable.DEFAULT = 'DEFAULT'\n",
    "\n",
    "con = sqlite3.connect(\"mydb.db\")\n",
    "cur = con.cursor()"
   ]
  },
  {
   "cell_type": "code",
   "execution_count": 3,
   "id": "b4c21a1a-0b74-4ab9-bafa-66a18bde95d2",
   "metadata": {},
   "outputs": [],
   "source": [
    "%sql sqlite:///mydb.db"
   ]
  },
  {
   "cell_type": "code",
   "execution_count": 4,
   "id": "dd756ab0-cbd7-40c7-b06b-f5d2f1e7c20b",
   "metadata": {},
   "outputs": [
    {
     "data": {
      "text/plain": [
       "110"
      ]
     },
     "execution_count": 4,
     "metadata": {},
     "output_type": "execute_result"
    }
   ],
   "source": [
    "import pandas as pd\n",
    "df = pd.read_csv(\"e-GMAT_GMAT_Club_Reviews.csv\")\n",
    "df.to_sql(\"egmat\", con, if_exists='replace', index=False,method=\"multi\")"
   ]
  },
  {
   "cell_type": "code",
   "execution_count": 5,
   "id": "42df5583-9ea0-4d09-81c6-1e209cb20c35",
   "metadata": {},
   "outputs": [
    {
     "name": "stdout",
     "output_type": "stream",
     "text": [
      " * sqlite:///mydb.db\n",
      "Done.\n"
     ]
    },
    {
     "data": {
      "text/plain": [
       "[]"
      ]
     },
     "execution_count": 5,
     "metadata": {},
     "output_type": "execute_result"
    }
   ],
   "source": [
    "%sql DROP TABLE IF EXISTS reviews;"
   ]
  },
  {
   "cell_type": "code",
   "execution_count": 6,
   "id": "e92582c5-b4fc-47ae-96cd-b19593e5359d",
   "metadata": {},
   "outputs": [
    {
     "name": "stdout",
     "output_type": "stream",
     "text": [
      " * sqlite:///mydb.db\n",
      "Done.\n"
     ]
    },
    {
     "data": {
      "text/plain": [
       "[]"
      ]
     },
     "execution_count": 6,
     "metadata": {},
     "output_type": "execute_result"
    }
   ],
   "source": [
    "%sql create table reviews as select * from egmat"
   ]
  },
  {
   "cell_type": "code",
   "execution_count": 7,
   "id": "deb7c118-26b6-4c83-ace9-a5e0268cd536",
   "metadata": {},
   "outputs": [
    {
     "name": "stdout",
     "output_type": "stream",
     "text": [
      " * sqlite:///mydb.db\n",
      "Done.\n"
     ]
    },
    {
     "data": {
      "text/html": [
       "<table>\n",
       "    <thead>\n",
       "        <tr>\n",
       "            <th>Unnamed: 0</th>\n",
       "            <th>Page No</th>\n",
       "            <th>Date</th>\n",
       "            <th>Review Heading</th>\n",
       "            <th>Username</th>\n",
       "            <th>Scores</th>\n",
       "            <th>Stars</th>\n",
       "            <th>ImprovedPoints</th>\n",
       "            <th>Course</th>\n",
       "            <th>Location</th>\n",
       "            <th>ReviewBody</th>\n",
       "            <th>Year</th>\n",
       "            <th>Month</th>\n",
       "            <th>Strengths</th>\n",
       "            <th>Improvements</th>\n",
       "            <th>PersonalExperience</th>\n",
       "            <th>Tips</th>\n",
       "            <th>from</th>\n",
       "            <th>Commended</th>\n",
       "            <th>Suggested</th>\n",
       "        </tr>\n",
       "    </thead>\n",
       "    <tbody>\n",
       "        <tr>\n",
       "            <td>0</td>\n",
       "            <td>1</td>\n",
       "            <td>2024-11-27</td>\n",
       "            <td>e-GMAT Review</td>\n",
       "            <td>Sai01</td>\n",
       "            <td>Verified GMAT Focus score:<br>675 Q87 V84 DI80 (Online)</td>\n",
       "            <td>5</td>\n",
       "            <td>70</td>\n",
       "            <td>GMAT Live Prep</td>\n",
       "            <td>Online</td>\n",
       "            <td>Strengths:<br><br>*Verbal Section<br>*Data Analytics<br>*Price<br>*Live Sessions and Coach Connect<br>*Last Mile Push Program<br>*Question forums with prompt responses<br><br>Would make the product better:<br><br>*Some typos on verbal questions should be addressed<br>*Word Problems Section Hard question are much more difficult and time consuming than what is tested suggest to lower difficulty or mix in less difficult problems that can be completed in around three minutes compared to the excessive questions with four or five minute median solving times<br><br>I used e-GMAT to improve my GMAT score from 605 to 675, achieving Q87, V84, and DI80. The program’s modular study approach and data-driven analytics were standout features, enabling me to track my progress and feel in control throughout my preparation. I also appreciated the live sessions and weekly coffee chats, which broke the monotony of studying and kept me motivated with valuable tips.<br><br>After trying several prep companies’ free trials, I chose e-GMAT for its user-friendly, data-oriented interface. The course’s structured progression was especially helpful, starting with foundational skills and building up to timing efficiency. I began with the verbal section, improving from the 70th percentile to the 90th percentile in just three weeks—a remarkable feat given my past struggles with reading comprehension in exams like the SAT.<br><br>The program’s verbal-first approach provided a strong foundation that helped me tackle quantitative and data interpretation (DI) sections more effectively. The question analytics were another highlight, offering detailed insights on accuracy, timing, and score distributions. This feature allowed me to identify patterns in my mistakes and boosted my confidence when I saw that some challenging questions were difficult for others too.<br><br>While the course was transformative, certain sections—particularly word problems—felt excessively challenging. Although this built mental endurance and made actual exam questions easier, it also caused stress during preparation. I’d recommend students manage their expectations and remember that perfection isn’t always necessary.<br><br>Overall, e-GMAT provided a systematic, supportive, and effective approach to GMAT preparation. Its structured modules, detailed feedback, and engaging community played a key role in my improvement, equipping me with the skills and confidence to achieve my target score.</td>\n",
       "            <td>2024</td>\n",
       "            <td>November</td>\n",
       "            <td>*verbal section<br>*data analytics<br>*price<br>*live sessions and coach connect<br>*last mile push program<br>*question forums with prompt responses</td>\n",
       "            <td>*some typos on verbal questions should be addressed<br>*word problems section hard question are much more difficult and time consuming than what is tested suggest to lower difficulty or mix in less difficult problems that can be completed in around three minutes compared to the excessive questions with four or five minute median solving times</td>\n",
       "            <td>i used e-gmat to improve my gmat score from 605 to 675, achieving q87, v84, and di80. the program’s modular study approach and data-driven analytics were standout features, enabling me to track my progress and feel in control throughout my preparation. i also appreciated the live sessions and weekly coffee chats, which broke the monotony of studying and kept me motivated with valuable tips.<br><br>after trying several prep companies’ free trials, i chose e-gmat for its user-friendly, data-oriented interface. the course’s structured progression was especially helpful, starting with foundational skills and building up to timing efficiency. i began with the verbal section, improving from the 70th percentile to the 90th percentile in just three weeks—a remarkable feat given my past struggles with reading comprehension in exams like the sat.<br><br>the program’s verbal-first approach provided a strong foundation that helped me tackle quantitative and data interpretation (di) sections more effectively. the question analytics were another highlight, offering detailed insights on accuracy, timing, and score distributions. this feature allowed me to identify patterns in my mistakes and boosted my confidence when i saw that some challenging questions were difficult for others too.<br><br>while the course was transformative, certain sections—particularly word problems—felt excessively challenging. although this built mental endurance and made actual exam questions easier, it also caused stress during preparation. i’d recommend students manage their expectations and remember that perfection isn’t always necessary.<br><br>overall, e-gmat provided a systematic, supportive, and effective approach to gmat preparation. its structured modules, detailed feedback, and engaging community played a key role in my improvement, equipping me with the skills and confidence to achieve my target score.</td>\n",
       "            <td>None</td>\n",
       "            <td>h e a d e r s</td>\n",
       "            <td>GMAT Live Prep:<br>*verbal section<br>*data analytics<br>*price<br>*live sessions and coach connect<br>*last mile push program<br>*question forums with prompt responses</td>\n",
       "            <td>GMAT Live Prep:<br>*some typos on verbal questions should be addressed<br>*word problems section hard question are much more difficult and time consuming than what is tested suggest to lower difficulty or mix in less difficult problems that can be completed in around three minutes compared to the excessive questions with four or five minute median solving times</td>\n",
       "        </tr>\n",
       "    </tbody>\n",
       "</table>"
      ],
      "text/plain": [
       "[(0, 1, '2024-11-27', 'e-GMAT Review', 'Sai01', 'Verified GMAT Focus score:\\n675 Q87 V84 DI80 (Online)', 5, 70, 'GMAT Live Prep', 'Online', 'Strengths:\\n\\n*Verbal Section\\n*Data Analytics\\n*Price\\n*Live Sessions and Coach Connect\\n*Last Mile Push Program\\n*Question forums with prompt respo ... (2129 characters truncated) ... etailed feedback, and engaging community played a key role in my improvement, equipping me with the skills and confidence to achieve my target score.', 2024, 'November', '*verbal section\\n*data analytics\\n*price\\n*live sessions and coach connect\\n*last mile push program\\n*question forums with prompt responses', '*some typos on verbal questions should be addressed\\n*word problems section hard question are much more difficult and time consuming than what is tes ... (44 characters truncated) ... ss difficult problems that can be completed in around three minutes compared to the excessive questions with four or five minute median solving times', 'i used e-gmat to improve my gmat score from 605 to 675, achieving q87, v84, and di80. the program’s modular study approach and data-driven analytics  ... (1592 characters truncated) ... etailed feedback, and engaging community played a key role in my improvement, equipping me with the skills and confidence to achieve my target score.', None, 'h e a d e r s', 'GMAT Live Prep:\\n*verbal section\\n*data analytics\\n*price\\n*live sessions and coach connect\\n*last mile push program\\n*question forums with prompt responses', 'GMAT Live Prep:\\n*some typos on verbal questions should be addressed\\n*word problems section hard question are much more difficult and time consuming ... (61 characters truncated) ... ss difficult problems that can be completed in around three minutes compared to the excessive questions with four or five minute median solving times')]"
      ]
     },
     "execution_count": 7,
     "metadata": {},
     "output_type": "execute_result"
    }
   ],
   "source": [
    "%sql select * from reviews limit 1"
   ]
  },
  {
   "cell_type": "code",
   "execution_count": 8,
   "id": "5f658b8a-433c-429b-8c3c-67c1fddabeb3",
   "metadata": {},
   "outputs": [
    {
     "name": "stdout",
     "output_type": "stream",
     "text": [
      " * sqlite:///mydb.db\n",
      "Done.\n"
     ]
    },
    {
     "data": {
      "text/plain": [
       "[]"
      ]
     },
     "execution_count": 8,
     "metadata": {},
     "output_type": "execute_result"
    }
   ],
   "source": [
    "%sql create view analysis as select Date,Stars,ImprovedPoints,Course,Commended,Suggested from reviews"
   ]
  },
  {
   "cell_type": "code",
   "execution_count": 22,
   "id": "dc16f65e-3803-4e23-bc90-d789aa894113",
   "metadata": {},
   "outputs": [
    {
     "name": "stdout",
     "output_type": "stream",
     "text": [
      " * sqlite:///mydb.db\n",
      "Done.\n"
     ]
    },
    {
     "data": {
      "text/html": [
       "<table>\n",
       "    <thead>\n",
       "        <tr>\n",
       "            <th>Date</th>\n",
       "            <th>Stars</th>\n",
       "            <th>ImprovedPoints</th>\n",
       "            <th>Course</th>\n",
       "            <th>Commended</th>\n",
       "            <th>Suggested</th>\n",
       "        </tr>\n",
       "    </thead>\n",
       "    <tbody>\n",
       "        <tr>\n",
       "            <td>2024-11-27</td>\n",
       "            <td>5</td>\n",
       "            <td>70</td>\n",
       "            <td>GMAT Live Prep</td>\n",
       "            <td>GMAT Live Prep:<br>*verbal section<br>*data analytics<br>*price<br>*live sessions and coach connect<br>*last mile push program<br>*question forums with prompt responses</td>\n",
       "            <td>GMAT Live Prep:<br>*some typos on verbal questions should be addressed<br>*word problems section hard question are much more difficult and time consuming than what is tested suggest to lower difficulty or mix in less difficult problems that can be completed in around three minutes compared to the excessive questions with four or five minute median solving times</td>\n",
       "        </tr>\n",
       "        <tr>\n",
       "            <td>2025-05-06</td>\n",
       "            <td>5</td>\n",
       "            <td>60</td>\n",
       "            <td>Online 360</td>\n",
       "            <td>Online 360:<br>after analyzing melissa&#x27;s interview, i can craft a comprehensive review of e-gmat&#x27;s gmat preparation program. her journey from 625 to 685 highlights several standout features that made e-gmat particularly effective compared to other preparation options she had tried.<br>e-gmat&#x27;s data insights preparation stands out as exceptional in the gmat prep landscape. what sets it apart is the realistic exam simulation that allows students to navigate through multiple tabs just like on the actual exam - a feature melissa noted was missing from other preparation sites. the variety of question types provided in e-gmat&#x27;s data insights section is impressive, covering everything from tables with paragraph information to diverse chart types that other preparation platforms simply don&#x27;t offer. this comprehensive approach to di preparation gives students exposure to the full spectrum of question formats they might encounter on test day, eliminating unwelcome surprises.</td>\n",
       "            <td>Online 360:<br>the platform&#x27;s quantitative section delivers questions with a higher difficulty level than what&#x27;s found in official gmat exams, which proved to be excellent preparation for melissa. when facing the actual gmat, she found the questions more manageable because she had already practiced with more challenging material. the targeted practice system allows students to zero in on specific topics they struggle with, rather than repeatedly covering material they&#x27;ve already mastered. this personalized approach to practice is more efficient and effective than the one-size-fits-all method used by many other preparation programs.</td>\n",
       "        </tr>\n",
       "        <tr>\n",
       "            <td>2025-03-25</td>\n",
       "            <td>5</td>\n",
       "            <td>0</td>\n",
       "            <td>Online 360</td>\n",
       "            <td>Online 360:<br>e-gmat&#x27;s pace engine revolutionized my study approach by precisely identifying knowledge gaps and creating a personalized learning path. this intelligent system saved me approximately 25 hours by allowing me to skip familiar concepts while diving deeper into challenging areas. rather than following a linear curriculum, the pace engine adapted to my strengths and weaknesses, particularly in quant where i needed to focus on accuracy rather than formulas. the course structure moved systematically from fundamentals to advanced applications, ensuring i built a solid foundation before tackling more complex problems.</td>\n",
       "            <td>Online 360:<br>the scholaranium question bank proved invaluable with its vast collection of practice questions stratified by difficulty level. this feature allowed me to progressively challenge myself from medium to hard questions across all topics. the platform&#x27;s detailed analytics tracked my performance across all question types and difficulty levels, helping me identify patterns in my approach to different problem categories. each question included comprehensive explanations and alternative solution approaches. the ability to create customized quizzes focusing on specific weaknesses helped me systematically address problem areas and steadily improve my accuracy rates.</td>\n",
       "        </tr>\n",
       "        <tr>\n",
       "            <td>2025-02-18</td>\n",
       "            <td>5</td>\n",
       "            <td>60</td>\n",
       "            <td>Online 360</td>\n",
       "            <td>Online 360:<br>one of the biggest strengths is the large question bank available to you that helps you practice your concepts and build your foundation and speed.</td>\n",
       "            <td>Online 360:<br>one area for improvement is the mock tests, which i found significantly more difficult than the actual exam. having some mocks closer to the gmat’s actual difficulty level would help in better preparedness.</td>\n",
       "        </tr>\n",
       "        <tr>\n",
       "            <td>2025-01-14</td>\n",
       "            <td>4</td>\n",
       "            <td>60</td>\n",
       "            <td>Online Focused</td>\n",
       "            <td>Online Focused:<br>nil</td>\n",
       "            <td>Online Focused:<br>one of the best features i found on gmat is the cementing mechanism which helps one drill the concepts learnt while applying them to actual questions for each topic which can be specifically beneficial if you already have foundations built and are looking to improve your score. also the sectional tests and the actual mocks on e-gmat resonate with the actual test you will face on your exam date. another important feature is that for each quiz or test you take you can customize it with difficulty levels of questions you want to attempt. this helps you build consistency by attempting a particular difficulty level which is crucial for securing a high score. i used the e-gmat product for only 20 days during my journey to improve my score by 60 points to a 695 in focus edition. the last mile push program was pivotal in helping me identify my weaknesses and fill crucial skill gaps required for a high score.</td>\n",
       "        </tr>\n",
       "        <tr>\n",
       "            <td>2024-11-27</td>\n",
       "            <td>5</td>\n",
       "            <td>70</td>\n",
       "            <td>GMAT Live Prep</td>\n",
       "            <td>GMAT Live Prep:<br>*verbal section<br>*data analytics<br>*price<br>*live sessions and coach connect<br>*last mile push program<br>*question forums with prompt responses</td>\n",
       "            <td>GMAT Live Prep:<br>*some typos on verbal questions should be addressed<br>*word problems section hard question are much more difficult and time consuming than what is tested suggest to lower difficulty or mix in less difficult problems that can be completed in around three minutes compared to the excessive questions with four or five minute median solving times</td>\n",
       "        </tr>\n",
       "    </tbody>\n",
       "</table>"
      ],
      "text/plain": [
       "[('2024-11-27', 5, 70, 'GMAT Live Prep', 'GMAT Live Prep:\\n*verbal section\\n*data analytics\\n*price\\n*live sessions and coach connect\\n*last mile push program\\n*question forums with prompt responses', 'GMAT Live Prep:\\n*some typos on verbal questions should be addressed\\n*word problems section hard question are much more difficult and time consuming ... (61 characters truncated) ... ss difficult problems that can be completed in around three minutes compared to the excessive questions with four or five minute median solving times'),\n",
       " ('2025-05-06', 5, 60, 'Online 360', \"Online 360:\\nafter analyzing melissa's interview, i can craft a comprehensive review of e-gmat's gmat preparation program. her journey from 625 to 68 ... (677 characters truncated) ... to di preparation gives students exposure to the full spectrum of question formats they might encounter on test day, eliminating unwelcome surprises.\", \"Online 360:\\nthe platform's quantitative section delivers questions with a higher difficulty level than what's found in official gmat exams, which pr ... (339 characters truncated) ... ed. this personalized approach to practice is more efficient and effective than the one-size-fits-all method used by many other preparation programs.\"),\n",
       " ('2025-03-25', 5, 0, 'Online 360', \"Online 360:\\ne-gmat's pace engine revolutionized my study approach by precisely identifying knowledge gaps and creating a personalized learning path. ... (332 characters truncated) ... structure moved systematically from fundamentals to advanced applications, ensuring i built a solid foundation before tackling more complex problems.\", \"Online 360:\\nthe scholaranium question bank proved invaluable with its vast collection of practice questions stratified by difficulty level. this fea ... (379 characters truncated) ... y to create customized quizzes focusing on specific weaknesses helped me systematically address problem areas and steadily improve my accuracy rates.\"),\n",
       " ('2025-02-18', 5, 60, 'Online 360', 'Online 360:\\none of the biggest strengths is the large question bank available to you that helps you practice your concepts and build your foundation and speed.', 'Online 360:\\none area for improvement is the mock tests, which i found significantly more difficult than the actual exam. having some mocks closer to the gmat’s actual difficulty level would help in better preparedness.'),\n",
       " ('2025-01-14', 4, 60, 'Online Focused', 'Online Focused:\\nnil', 'Online Focused:\\none of the best features i found on gmat is the cementing mechanism which helps one drill the concepts learnt while applying them to ... (632 characters truncated) ...  in focus edition. the last mile push program was pivotal in helping me identify my weaknesses and fill crucial skill gaps required for a high score.'),\n",
       " ('2024-11-27', 5, 70, 'GMAT Live Prep', 'GMAT Live Prep:\\n*verbal section\\n*data analytics\\n*price\\n*live sessions and coach connect\\n*last mile push program\\n*question forums with prompt responses', 'GMAT Live Prep:\\n*some typos on verbal questions should be addressed\\n*word problems section hard question are much more difficult and time consuming ... (61 characters truncated) ... ss difficult problems that can be completed in around three minutes compared to the excessive questions with four or five minute median solving times')]"
      ]
     },
     "execution_count": 22,
     "metadata": {},
     "output_type": "execute_result"
    }
   ],
   "source": [
    "%sql select * from analysis where Suggested like '%difficulty level%' or Suggested like '%typos%'"
   ]
  },
  {
   "cell_type": "code",
   "execution_count": 16,
   "id": "fe598601-430e-4052-b475-e11a42f0f682",
   "metadata": {},
   "outputs": [
    {
     "name": "stdout",
     "output_type": "stream",
     "text": [
      " * sqlite:///mydb.db\n",
      "Done.\n"
     ]
    },
    {
     "data": {
      "text/html": [
       "<table>\n",
       "    <thead>\n",
       "        <tr>\n",
       "            <th>Date</th>\n",
       "            <th>Stars</th>\n",
       "            <th>ImprovedPoints</th>\n",
       "            <th>Course</th>\n",
       "            <th>Commended</th>\n",
       "            <th>Suggested</th>\n",
       "        </tr>\n",
       "    </thead>\n",
       "    <tbody>\n",
       "        <tr>\n",
       "            <td>2025-03-25</td>\n",
       "            <td>4</td>\n",
       "            <td>80</td>\n",
       "            <td>Online Focused</td>\n",
       "            <td>Online Focused:<br>- good set of questions<br>- scholaranium for creating quizzes as per requirement and weak areas<br>- helped with di (sets are good)<br>- sectional and full mock tests<br>- access to gmatclub test series</td>\n",
       "            <td>Online Focused:<br>- doesn&#x27;t have notes for all videos (still in making)<br>- error log not useful at all if there is gap between your gmat exam and last day of e-gmat subscription as you can not see questions afterwards (logical from company end, but doesn&#x27;t help students)<br>- question bank can be increased (limited number of medium and hard questions for each topic)<br>- verbal didn&#x27;t help much in my case<br>- extended financial help for people with constraints (no budging from existing discounts)</td>\n",
       "        </tr>\n",
       "        <tr>\n",
       "            <td>2025-01-14</td>\n",
       "            <td>5</td>\n",
       "            <td>30</td>\n",
       "            <td>Online 360</td>\n",
       "            <td>Online 360:<br>1. structured coursework with emphasis on developing processes. e.g. pre-thinking in verbal, translation of problem statements into equations across quant and data insights.<br><br>2. milestone based approach to help candidates to develop their skills and processes and use &quot;cementing&quot; to solidify them. this ensures measurable progress while keeping the candidate motivated and focused on improvement areas.<br><br>3. rich variety of questions similar to those in gmat enabling thorough preparation.<br><br>4. self-paced and interactive course content<br><br>5. availability of an experienced mentor to provide direct and honest feedback</td>\n",
       "            <td>Online 360:<br>1. if possible simplify or streamline the error log process. while the intent is absolutely relevant, the process can be a little heavy for someone on a short timeline like in my case.</td>\n",
       "        </tr>\n",
       "        <tr>\n",
       "            <td>2024-11-26</td>\n",
       "            <td>5</td>\n",
       "            <td>140</td>\n",
       "            <td>Online Focused</td>\n",
       "            <td>Online Focused:<br>nil</td>\n",
       "            <td>Online Focused:<br>as a working professional who improved from 515 (36th percentile) to 655 on the gmat, i can confidently say e-gmat played a pivotal role in my success. the platform&#x27;s unique selling point is its data-driven approach to gmat preparation, which became evident from day one of my journey. the standout feature is their pace engine, which intelligently customized my study plan by skipping content i already knew while ensuring no knowledge gaps remained. this saved me over 41.5 hours of study time - crucial for a working professional. the quality of questions in their scholaranium quiz portal is exceptional, matching the rigor of jee mains level problems. what sets these questions apart is the clear performance benchmarks they provide - 70% accuracy for medium questions and 60% for hard questions, giving students a concrete target to aim for. their data insights section deserves special mention. as someone who struggled with this new gmat section, i found their comprehensive coverage of all question types (ds, grt, msr, tpa) incredibly helpful. the detailed video solutions for every question didn&#x27;t just provide answers but taught better approaches to problem-solving. additionally, their pre-thinking methodology for critical reasoning significantly improved my verbal performance, helping me achieve a v79 from v73. the mentor support system is another strength. my mentor dhruv provided consistent guidance through regular performance analysis, strategic advice, and quick responses to queries. what i particularly appreciated was the honest feedback about weaknesses - there was no sugar-coating, just actionable advice for improvement. the platform&#x27;s analytics are impressive, offering detailed insights into performance across question types and an effective error logging system to track mistakes. my sectional improvements speak for themselves - quant from q82 to q87, data insights from di73 to di82 (93rd percentile), and verbal from v73 to v79. these improvements came through structured learning, quality content, and strategic guidance. while the coach connect feature could be more structured, it&#x27;s a minor concern in an otherwise excellent program. what truly sets e-gmat apart is how it helps develop both content knowledge and the right mindset for gmat success. the platform&#x27;s ability to identify and target specific weaknesses, rather than taking a one-size-fits-all approach, makes it particularly effective. for anyone serious about gmat preparation, especially working professionals, e-gmat offers a comprehensive, data-driven path to success.</td>\n",
       "        </tr>\n",
       "    </tbody>\n",
       "</table>"
      ],
      "text/plain": [
       "[('2025-03-25', 4, 80, 'Online Focused', 'Online Focused:\\n- good set of questions\\n- scholaranium for creating quizzes as per requirement and weak areas\\n- helped with di (sets are good)\\n- sectional and full mock tests\\n- access to gmatclub test series', \"Online Focused:\\n- doesn't have notes for all videos (still in making)\\n- error log not useful at all if there is gap between your gmat exam and last ... (197 characters truncated) ... ons for each topic)\\n- verbal didn't help much in my case\\n- extended financial help for people with constraints (no budging from existing discounts)\"),\n",
       " ('2025-01-14', 5, 30, 'Online 360', 'Online 360:\\n1. structured coursework with emphasis on developing processes. e.g. pre-thinking in verbal, translation of problem statements into equa ... (337 characters truncated) ... orough preparation.\\n\\n4. self-paced and interactive course content\\n\\n5. availability of an experienced mentor to provide direct and honest feedback', 'Online 360:\\n1. if possible simplify or streamline the error log process. while the intent is absolutely relevant, the process can be a little heavy for someone on a short timeline like in my case.'),\n",
       " ('2024-11-26', 5, 140, 'Online Focused', 'Online Focused:\\nnil', \"Online Focused:\\nas a working professional who improved from 515 (36th percentile) to 655 on the gmat, i can confidently say e-gmat played a pivotal  ... (2294 characters truncated) ... y effective. for anyone serious about gmat preparation, especially working professionals, e-gmat offers a comprehensive, data-driven path to success.\")]"
      ]
     },
     "execution_count": 16,
     "metadata": {},
     "output_type": "execute_result"
    }
   ],
   "source": [
    "%sql select * from analysis where Suggested like '%error log%' limit 3"
   ]
  },
  {
   "cell_type": "code",
   "execution_count": 17,
   "id": "e8b494cf-cd11-44f3-8750-409df4d9edd1",
   "metadata": {},
   "outputs": [
    {
     "name": "stdout",
     "output_type": "stream",
     "text": [
      " * sqlite:///mydb.db\n",
      "Done.\n"
     ]
    },
    {
     "data": {
      "text/html": [
       "<table>\n",
       "    <thead>\n",
       "        <tr>\n",
       "            <th>Date</th>\n",
       "            <th>Stars</th>\n",
       "            <th>ImprovedPoints</th>\n",
       "            <th>Course</th>\n",
       "            <th>Commended</th>\n",
       "            <th>Suggested</th>\n",
       "        </tr>\n",
       "    </thead>\n",
       "    <tbody>\n",
       "        <tr>\n",
       "            <td>2025-03-18</td>\n",
       "            <td>5</td>\n",
       "            <td>0</td>\n",
       "            <td>Mentorship</td>\n",
       "            <td>Mentorship:<br>clear and structured curriculum tailored for students of all levels.<br>extensive question bank in the scholaranium platform with varied difficulty levels.<br>customizable quizzes for targeted practice and regular revision.<br>robust analytics offering actionable insights into performance trends and weak areas.<br>personalized mentorship through the last mile push (lmp) program, providing strategies and consistent feedback.<br>prompt and reliable support from the e-gmat team.</td>\n",
       "            <td>Mentorship:<br>some minor interface improvements in terms of solutions&#x27; easy availability later on, and maybe create a roster of sorts wherein the student can just go through the complete list of questions that are attempted.</td>\n",
       "        </tr>\n",
       "        <tr>\n",
       "            <td>2025-01-16</td>\n",
       "            <td>5</td>\n",
       "            <td>0</td>\n",
       "            <td>Online Focused</td>\n",
       "            <td>Online Focused:<br>verbal modules, practice questions covering all types and frameworks, and ways to approach the questions, were excellent. prethinking was a game changer.<br>for quant, the pace system was useful in saving time, with its suggestion to skip already strong topics and work on unfamiliar topics.<br>di was very comprehensive, covering all types of topics.<br>cementing quizzes, scholaranium, and mocks were excellent for practice.</td>\n",
       "            <td>Online Focused:<br>in verbal, some rc modules seemed old. the content was good, but the interface (ppt type) seemed outdated and slow.</td>\n",
       "        </tr>\n",
       "        <tr>\n",
       "            <td>2024-12-23</td>\n",
       "            <td>5</td>\n",
       "            <td>60</td>\n",
       "            <td>Online Focused</td>\n",
       "            <td>Online Focused:<br>scholoranium questions, mocks and di learning modules.</td>\n",
       "            <td>Online Focused:<br>user interface matching like that of gmat. maybe have a confirm answer option that takes up a few seconds in the actual gmat.</td>\n",
       "        </tr>\n",
       "        <tr>\n",
       "            <td>2024-11-17</td>\n",
       "            <td>5</td>\n",
       "            <td>50</td>\n",
       "            <td>Online Focused</td>\n",
       "            <td>Online Focused:<br>- clear and structured curriculum tailored for students of all levels, including non-quantitative backgrounds.<br>- extensive question bank in the scholaranium platform with a wide variety of difficulty levels.<br>- customizable quizzes for targeted practice, allowing focus on specific weak areas and regular revision.<br>- robust analytics that provide actionable insights into performance trends and weak areas.<br>- dedicated mentorship through the last mile push (lmp) program, offering personalized strategies and regular feedback.<br>- prompt and reliable support from the e-gmat team for any queries or concerns.</td>\n",
       "            <td>Online Focused:<br>- sigma-x mock tests tend to feel more challenging and time-intensive than the actual gmat, which can create a slight mismatch in expectations; aligning these mocks closer to the real exam would enhance their utility.<br>- including shortcut methods alongside detailed solutions for quant questions could help students solve problems faster during the actual exam.<br>- some interface improvements could make navigation through the course modules more seamless.</td>\n",
       "        </tr>\n",
       "    </tbody>\n",
       "</table>"
      ],
      "text/plain": [
       "[('2025-03-18', 5, 0, 'Mentorship', 'Mentorship:\\nclear and structured curriculum tailored for students of all levels.\\nextensive question bank in the scholaranium platform with varied d ... (185 characters truncated) ... mentorship through the last mile push (lmp) program, providing strategies and consistent feedback.\\nprompt and reliable support from the e-gmat team.', \"Mentorship:\\nsome minor interface improvements in terms of solutions' easy availability later on, and maybe create a roster of sorts wherein the student can just go through the complete list of questions that are attempted.\"),\n",
       " ('2025-01-16', 5, 0, 'Online Focused', 'Online Focused:\\nverbal modules, practice questions covering all types and frameworks, and ways to approach the questions, were excellent. prethinkin ... (139 characters truncated) ... unfamiliar topics.\\ndi was very comprehensive, covering all types of topics.\\ncementing quizzes, scholaranium, and mocks were excellent for practice.', 'Online Focused:\\nin verbal, some rc modules seemed old. the content was good, but the interface (ppt type) seemed outdated and slow.'),\n",
       " ('2024-12-23', 5, 60, 'Online Focused', 'Online Focused:\\nscholoranium questions, mocks and di learning modules.', 'Online Focused:\\nuser interface matching like that of gmat. maybe have a confirm answer option that takes up a few seconds in the actual gmat.'),\n",
       " ('2024-11-17', 5, 50, 'Online Focused', 'Online Focused:\\n- clear and structured curriculum tailored for students of all levels, including non-quantitative backgrounds.\\n- extensive question ... (329 characters truncated) ... lmp) program, offering personalized strategies and regular feedback.\\n- prompt and reliable support from the e-gmat team for any queries or concerns.', 'Online Focused:\\n- sigma-x mock tests tend to feel more challenging and time-intensive than the actual gmat, which can create a slight mismatch in ex ... (176 characters truncated) ... students solve problems faster during the actual exam.\\n- some interface improvements could make navigation through the course modules more seamless.')]"
      ]
     },
     "execution_count": 17,
     "metadata": {},
     "output_type": "execute_result"
    }
   ],
   "source": [
    "%sql select * from analysis where Suggested like '%interface%'"
   ]
  },
  {
   "cell_type": "code",
   "execution_count": 25,
   "id": "b77d800e-ce89-4a6c-bbea-6bdbfc1ec612",
   "metadata": {},
   "outputs": [
    {
     "name": "stdout",
     "output_type": "stream",
     "text": [
      " * sqlite:///mydb.db\n",
      "Done.\n"
     ]
    },
    {
     "data": {
      "text/html": [
       "<table>\n",
       "    <thead>\n",
       "        <tr>\n",
       "            <th>Date</th>\n",
       "            <th>Stars</th>\n",
       "            <th>ImprovedPoints</th>\n",
       "            <th>Course</th>\n",
       "            <th>Commended</th>\n",
       "            <th>Suggested</th>\n",
       "        </tr>\n",
       "    </thead>\n",
       "    <tbody>\n",
       "        <tr>\n",
       "            <td>2025-05-13</td>\n",
       "            <td>5</td>\n",
       "            <td>110</td>\n",
       "            <td>Online Focused</td>\n",
       "            <td>Online Focused:<br>1. last mile program (lmp) &amp; mentorship<br>lmp assigned me a dedicated mentor who provided a customized study plan and personally tracked my progress throughout the journey. honestly, having such a mentor made decision-making so much easier—thanks to her vast experience and clear guidance. she always knew where i needed to pivot and what to prioritize. that kind of mentorship is rare and extremely valuable.<br><br>2. data insights (di) – high-quality content<br>e-gmat’s di module and question sets are excellent. the explanations are detailed, and the structure builds strong logical and analytical skills. even on a bad test day, i was able to score an 84 in di (97th percentile)—all thanks to their methods and practice questions. the content truly prepares you for anything the gmat can throw at you.<br><br>3. scholaranium – a must-have tool<br>scholaranium’s massive, high-quality question bank was one of the most useful tools in my prep. it made learning and practice much more effective. without it, gmat prep would’ve been extremely difficult. plus, the performance analytics really help identify where you need to improve.</td>\n",
       "            <td>Online Focused:<br>i had a good experience with e-gmat so far</td>\n",
       "        </tr>\n",
       "        <tr>\n",
       "            <td>2025-05-12</td>\n",
       "            <td>5</td>\n",
       "            <td>200</td>\n",
       "            <td>Online 360</td>\n",
       "            <td>Online 360:<br>1. adaptive preparation based on your strengths<br>2. lets you plan your time and schedule better - especially for working professional<br>3. structured approach for verbal (ensures conviction in marking answers)<br>4. good focus on details in di and quants<br>4. cementing phase - e-gmat&#x27;s cementing (intermediate tests at topic level) and error logs<br>5. sectional mock<br>6. final mock papers - you get 5 mock papers.</td>\n",
       "            <td>Online 360:<br>could increase the number of mock test papers from existing 5 to 10 papers.</td>\n",
       "        </tr>\n",
       "        <tr>\n",
       "            <td>2025-05-12</td>\n",
       "            <td>5</td>\n",
       "            <td>70</td>\n",
       "            <td>Mentorship</td>\n",
       "            <td>Mentorship:<br>top-notch verbal course (especially cr):<br>their meaning-based approach to sentence correction and logic-driven critical reasoning methods are some of the best in the market. it makes concepts intuitive and helps in long-term retention.<br><br>personalized study plans:<br>the personalized study planner gives you a realistic timeline with topic-level breakdowns, helping you plan efficiently based on your target score and daily availability.<br><br>scholaranium analytics:<br>this platform offers detailed performance analytics at a sub-skill level. you can pinpoint exactly which concept or question type is dragging your score down.<br><br>responsive mentorship support:<br>their mentorship program is hands-on—mentors track your progress, provide check-ins, and adjust your strategy based on data. this is a huge motivator, especially for working professionals.<br><br>focus on process over speed:<br>e-gmat emphasizes getting the process right first, then building speed. this structured thinking greatly helps reduce careless errors and improves accuracy.</td>\n",
       "            <td>Mentorship:<br>a dynamic planner that adjusts based on weekly availability or learning pace could reduce overwhelm and keep prep aligned with real-life schedules.</td>\n",
       "        </tr>\n",
       "        <tr>\n",
       "            <td>2025-05-09</td>\n",
       "            <td>5</td>\n",
       "            <td>70</td>\n",
       "            <td>GMAT Live Prep</td>\n",
       "            <td>GMAT Live Prep:<br>e-gmat was a game-changer in my gmat focus prep journey. what sets it apart is the structured, logic-first approach — especially in verbal. the cr pre-thinking method and rc strategy helped me approach questions with clarity instead of guesswork. sc explanations were detailed and focused on meaning, which is crucial for gmat focus. the scholaranium platform deserves a special mention — the analytics helped me identify not just weak areas but patterns behind mistakes. i appreciated how the course builds gradually, layer by layer, without overwhelming you. i also liked their focus on mindset — through strategy sessions, pacing guides, and mock reviews. it wasn’t just content; it was coaching.</td>\n",
       "            <td>GMAT Live Prep:<br>nil</td>\n",
       "        </tr>\n",
       "        <tr>\n",
       "            <td>2025-05-07</td>\n",
       "            <td>5</td>\n",
       "            <td>110</td>\n",
       "            <td>Online 360</td>\n",
       "            <td>Online 360:<br>1. coursework is structured and easy to understand on your own. it takes you from the basics all the way to advanced topics smoothly.<br><br>2. all progress in quantified and provided to you regularly, this way you can see how much you&#x27;ve been improving over time.<br><br>3. lots of questions and practice mocks at a similar level of the actual gmat exam for thorough preparation.<br><br>4. self-paced content which provides accurate estimates of when you will be able to complete it all to plan in advanced properly.<br><br>5. availability of an experienced mentors to provide direct and honest feedback</td>\n",
       "            <td>Online 360:<br>1. logging errors for reviewing them later can be made a bit simpler and categorical, to ensure users can find all their previous errors in one place and review them at once.</td>\n",
       "        </tr>\n",
       "    </tbody>\n",
       "</table>"
      ],
      "text/plain": [
       "[('2025-05-13', 5, 110, 'Online Focused', 'Online Focused:\\n1. last mile program (lmp) & mentorship\\nlmp assigned me a dedicated mentor who provided a customized study plan and personally trac ... (842 characters truncated) ... e effective. without it, gmat prep would’ve been extremely difficult. plus, the performance analytics really help identify where you need to improve.', 'Online Focused:\\ni had a good experience with e-gmat so far'),\n",
       " ('2025-05-12', 5, 200, 'Online 360', \"Online 360:\\n1. adaptive preparation based on your strengths\\n2. lets you plan your time and schedule better - especially for working professional\\n3 ... (124 characters truncated) ... nting phase - e-gmat's cementing (intermediate tests at topic level) and error logs\\n5. sectional mock\\n6. final mock papers - you get 5 mock papers.\", 'Online 360:\\ncould increase the number of mock test papers from existing 5 to 10 papers.'),\n",
       " ('2025-05-12', 5, 70, 'Mentorship', 'Mentorship:\\ntop-notch verbal course (especially cr):\\ntheir meaning-based approach to sentence correction and logic-driven critical reasoning method ... (752 characters truncated) ... emphasizes getting the process right first, then building speed. this structured thinking greatly helps reduce careless errors and improves accuracy.', 'Mentorship:\\na dynamic planner that adjusts based on weekly availability or learning pace could reduce overwhelm and keep prep aligned with real-life schedules.'),\n",
       " ('2025-05-09', 5, 70, 'GMAT Live Prep', 'GMAT Live Prep:\\ne-gmat was a game-changer in my gmat focus prep journey. what sets it apart is the structured, logic-first approach — especially in  ... (418 characters truncated) ... lming you. i also liked their focus on mindset — through strategy sessions, pacing guides, and mock reviews. it wasn’t just content; it was coaching.', 'GMAT Live Prep:\\nnil'),\n",
       " ('2025-05-07', 5, 110, 'Online 360', \"Online 360:\\n1. coursework is structured and easy to understand on your own. it takes you from the basics all the way to advanced topics smoothly.\\n\\ ... (303 characters truncated) ...  you will be able to complete it all to plan in advanced properly.\\n\\n5. availability of an experienced mentors to provide direct and honest feedback\", 'Online 360:\\n1. logging errors for reviewing them later can be made a bit simpler and categorical, to ensure users can find all their previous errors in one place and review them at once.')]"
      ]
     },
     "execution_count": 25,
     "metadata": {},
     "output_type": "execute_result"
    }
   ],
   "source": [
    "%%sql\n",
    "select * from analysis where Commended like '%scholaranium%' or Commended like '%data driven%' or Commended like '%mentor%' or Commended like '%structured%' limit 5"
   ]
  },
  {
   "cell_type": "code",
   "execution_count": null,
   "id": "694f7d13-a8dd-42a7-951e-dd2319734b60",
   "metadata": {},
   "outputs": [],
   "source": []
  }
 ],
 "metadata": {
  "kernelspec": {
   "display_name": "Python 3 (ipykernel)",
   "language": "python",
   "name": "python3"
  },
  "language_info": {
   "codemirror_mode": {
    "name": "ipython",
    "version": 3
   },
   "file_extension": ".py",
   "mimetype": "text/x-python",
   "name": "python",
   "nbconvert_exporter": "python",
   "pygments_lexer": "ipython3",
   "version": "3.11.7"
  }
 },
 "nbformat": 4,
 "nbformat_minor": 5
}
